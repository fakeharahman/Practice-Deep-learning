{
  "nbformat": 4,
  "nbformat_minor": 0,
  "metadata": {
    "colab": {
      "name": "Loan Data.ipynb",
      "provenance": [],
      "collapsed_sections": []
    },
    "kernelspec": {
      "name": "python3",
      "display_name": "Python 3"
    },
    "language_info": {
      "name": "python"
    }
  },
  "cells": [
    {
      "cell_type": "code",
      "metadata": {
        "colab": {
          "base_uri": "https://localhost:8080/"
        },
        "id": "8yw0MJCMv1JF",
        "outputId": "dcc01a07-0a50-4737-df94-2fc49ba954d0"
      },
      "source": [
        "pip install livelossplot"
      ],
      "execution_count": 1,
      "outputs": [
        {
          "output_type": "stream",
          "text": [
            "Requirement already satisfied: livelossplot in /usr/local/lib/python3.7/dist-packages (0.5.4)\n",
            "Requirement already satisfied: bokeh in /usr/local/lib/python3.7/dist-packages (from livelossplot) (2.3.2)\n",
            "Requirement already satisfied: matplotlib in /usr/local/lib/python3.7/dist-packages (from livelossplot) (3.2.2)\n",
            "Requirement already satisfied: ipython in /usr/local/lib/python3.7/dist-packages (from livelossplot) (5.5.0)\n",
            "Requirement already satisfied: numpy>=1.11.3 in /usr/local/lib/python3.7/dist-packages (from bokeh->livelossplot) (1.19.5)\n",
            "Requirement already satisfied: python-dateutil>=2.1 in /usr/local/lib/python3.7/dist-packages (from bokeh->livelossplot) (2.8.1)\n",
            "Requirement already satisfied: pillow>=7.1.0 in /usr/local/lib/python3.7/dist-packages (from bokeh->livelossplot) (7.1.2)\n",
            "Requirement already satisfied: PyYAML>=3.10 in /usr/local/lib/python3.7/dist-packages (from bokeh->livelossplot) (3.13)\n",
            "Requirement already satisfied: typing-extensions>=3.7.4 in /usr/local/lib/python3.7/dist-packages (from bokeh->livelossplot) (3.7.4.3)\n",
            "Requirement already satisfied: tornado>=5.1 in /usr/local/lib/python3.7/dist-packages (from bokeh->livelossplot) (5.1.1)\n",
            "Requirement already satisfied: packaging>=16.8 in /usr/local/lib/python3.7/dist-packages (from bokeh->livelossplot) (20.9)\n",
            "Requirement already satisfied: Jinja2>=2.9 in /usr/local/lib/python3.7/dist-packages (from bokeh->livelossplot) (2.11.3)\n",
            "Requirement already satisfied: cycler>=0.10 in /usr/local/lib/python3.7/dist-packages (from matplotlib->livelossplot) (0.10.0)\n",
            "Requirement already satisfied: kiwisolver>=1.0.1 in /usr/local/lib/python3.7/dist-packages (from matplotlib->livelossplot) (1.3.1)\n",
            "Requirement already satisfied: pyparsing!=2.0.4,!=2.1.2,!=2.1.6,>=2.0.1 in /usr/local/lib/python3.7/dist-packages (from matplotlib->livelossplot) (2.4.7)\n",
            "Requirement already satisfied: pickleshare in /usr/local/lib/python3.7/dist-packages (from ipython->livelossplot) (0.7.5)\n",
            "Requirement already satisfied: pygments in /usr/local/lib/python3.7/dist-packages (from ipython->livelossplot) (2.6.1)\n",
            "Requirement already satisfied: setuptools>=18.5 in /usr/local/lib/python3.7/dist-packages (from ipython->livelossplot) (57.0.0)\n",
            "Requirement already satisfied: decorator in /usr/local/lib/python3.7/dist-packages (from ipython->livelossplot) (4.4.2)\n",
            "Requirement already satisfied: pexpect; sys_platform != \"win32\" in /usr/local/lib/python3.7/dist-packages (from ipython->livelossplot) (4.8.0)\n",
            "Requirement already satisfied: traitlets>=4.2 in /usr/local/lib/python3.7/dist-packages (from ipython->livelossplot) (5.0.5)\n",
            "Requirement already satisfied: prompt-toolkit<2.0.0,>=1.0.4 in /usr/local/lib/python3.7/dist-packages (from ipython->livelossplot) (1.0.18)\n",
            "Requirement already satisfied: simplegeneric>0.8 in /usr/local/lib/python3.7/dist-packages (from ipython->livelossplot) (0.8.1)\n",
            "Requirement already satisfied: six>=1.5 in /usr/local/lib/python3.7/dist-packages (from python-dateutil>=2.1->bokeh->livelossplot) (1.15.0)\n",
            "Requirement already satisfied: MarkupSafe>=0.23 in /usr/local/lib/python3.7/dist-packages (from Jinja2>=2.9->bokeh->livelossplot) (2.0.1)\n",
            "Requirement already satisfied: ptyprocess>=0.5 in /usr/local/lib/python3.7/dist-packages (from pexpect; sys_platform != \"win32\"->ipython->livelossplot) (0.7.0)\n",
            "Requirement already satisfied: ipython-genutils in /usr/local/lib/python3.7/dist-packages (from traitlets>=4.2->ipython->livelossplot) (0.2.0)\n",
            "Requirement already satisfied: wcwidth in /usr/local/lib/python3.7/dist-packages (from prompt-toolkit<2.0.0,>=1.0.4->ipython->livelossplot) (0.2.5)\n"
          ],
          "name": "stdout"
        }
      ]
    },
    {
      "cell_type": "code",
      "metadata": {
        "id": "zeSzIx8zvTl-"
      },
      "source": [
        "import tensorflow as tf\n",
        "import glob\n",
        "import os\n",
        "import keras\n",
        "import numpy as np \n",
        "import pandas as pd \n",
        "import cv2\n",
        "import matplotlib.pyplot as plt\n",
        "# import shuffle\n",
        "from keras.layers import Dense, Flatten, Dropout, BatchNormalization\n",
        "from keras.models import Sequential, Model\n",
        "from keras.preprocessing.image import ImageDataGenerator, load_img\n",
        "from tensorflow.keras.callbacks import ModelCheckpoint, EarlyStopping\n",
        "from livelossplot.tf_keras import PlotLossesCallback\n",
        "from random import shuffle\n",
        "from keras.optimizers import Adam, SGD\n",
        "from tensorflow.keras import regularizers\n",
        "from keras.layers.normalization import BatchNormalization\n",
        "%matplotlib inline"
      ],
      "execution_count": 2,
      "outputs": []
    },
    {
      "cell_type": "code",
      "metadata": {
        "colab": {
          "base_uri": "https://localhost:8080/"
        },
        "id": "KAFTJ3SZv1Lw",
        "outputId": "58a9f0ea-873c-4184-9914-95a82b763ecd"
      },
      "source": [
        "df=pd.read_csv(\"/content/loan_data.csv\", header=0, dtype={\n",
        "    'purpose': 'category',  # <--  \n",
        "})\n",
        "print(df)\n",
        "print(dict(enumerate(df['purpose'].cat.categories)))"
      ],
      "execution_count": 3,
      "outputs": [
        {
          "output_type": "stream",
          "text": [
            "      credit.policy             purpose  ...  pub.rec  not.fully.paid\n",
            "0                 1  debt_consolidation  ...        0               0\n",
            "1                 1         credit_card  ...        0               0\n",
            "2                 1  debt_consolidation  ...        0               0\n",
            "3                 1  debt_consolidation  ...        0               0\n",
            "4                 1         credit_card  ...        0               0\n",
            "...             ...                 ...  ...      ...             ...\n",
            "9573              0           all_other  ...        0               1\n",
            "9574              0           all_other  ...        0               1\n",
            "9575              0  debt_consolidation  ...        0               1\n",
            "9576              0    home_improvement  ...        0               1\n",
            "9577              0  debt_consolidation  ...        0               1\n",
            "\n",
            "[9578 rows x 14 columns]\n",
            "{0: 'all_other', 1: 'credit_card', 2: 'debt_consolidation', 3: 'educational', 4: 'home_improvement', 5: 'major_purchase', 6: 'small_business'}\n"
          ],
          "name": "stdout"
        }
      ]
    },
    {
      "cell_type": "code",
      "metadata": {
        "id": "s7Uo6QFo92N2"
      },
      "source": [
        "df = df.sample(frac=1)\n",
        "# shuffled_df.to_csv(new_file_name, index=False)"
      ],
      "execution_count": 4,
      "outputs": []
    },
    {
      "cell_type": "code",
      "metadata": {
        "id": "XxcS9-Gb8rfq"
      },
      "source": [
        "paid_values=df.loc[df['not.fully.paid'] == 1]"
      ],
      "execution_count": 5,
      "outputs": []
    },
    {
      "cell_type": "code",
      "metadata": {
        "colab": {
          "base_uri": "https://localhost:8080/"
        },
        "id": "cP6aiJ4Q8ro4",
        "outputId": "8c4bc0c6-6d13-467c-b586-306350d07572"
      },
      "source": [
        "print(paid_values)"
      ],
      "execution_count": 6,
      "outputs": [
        {
          "output_type": "stream",
          "text": [
            "      credit.policy             purpose  ...  pub.rec  not.fully.paid\n",
            "8014              0  debt_consolidation  ...        0               1\n",
            "804               1  debt_consolidation  ...        0               1\n",
            "7704              1         educational  ...        0               1\n",
            "4952              1      small_business  ...        0               1\n",
            "2526              1           all_other  ...        0               1\n",
            "...             ...                 ...  ...      ...             ...\n",
            "5842              1    home_improvement  ...        0               1\n",
            "8202              0      small_business  ...        0               1\n",
            "4442              1         educational  ...        0               1\n",
            "5127              1      small_business  ...        0               1\n",
            "2756              1      major_purchase  ...        0               1\n",
            "\n",
            "[1533 rows x 14 columns]\n"
          ],
          "name": "stdout"
        }
      ]
    },
    {
      "cell_type": "code",
      "metadata": {
        "id": "iK-Pi8_d9zcT"
      },
      "source": [
        "unpaid_values=df.loc[df['not.fully.paid'] == 0].head(1533)"
      ],
      "execution_count": 7,
      "outputs": []
    },
    {
      "cell_type": "code",
      "metadata": {
        "colab": {
          "base_uri": "https://localhost:8080/"
        },
        "id": "LvdWSc7K-Jjv",
        "outputId": "8cd60f0a-99dc-4985-c55e-b681bb50eb78"
      },
      "source": [
        "print(unpaid_values)"
      ],
      "execution_count": 8,
      "outputs": [
        {
          "output_type": "stream",
          "text": [
            "      credit.policy             purpose  ...  pub.rec  not.fully.paid\n",
            "3000              1         credit_card  ...        0               0\n",
            "6626              1  debt_consolidation  ...        0               0\n",
            "5028              1  debt_consolidation  ...        0               0\n",
            "9054              0      small_business  ...        0               0\n",
            "8184              0  debt_consolidation  ...        0               0\n",
            "...             ...                 ...  ...      ...             ...\n",
            "4539              1    home_improvement  ...        0               0\n",
            "3318              1      major_purchase  ...        0               0\n",
            "7445              1  debt_consolidation  ...        0               0\n",
            "531               1  debt_consolidation  ...        0               0\n",
            "6619              1  debt_consolidation  ...        0               0\n",
            "\n",
            "[1533 rows x 14 columns]\n"
          ],
          "name": "stdout"
        }
      ]
    },
    {
      "cell_type": "code",
      "metadata": {
        "colab": {
          "base_uri": "https://localhost:8080/"
        },
        "id": "5xmuICul94jr",
        "outputId": "bbab91c9-f850-4306-f563-c53af1fe4d4d"
      },
      "source": [
        "df=paid_values.append(unpaid_values)\n",
        "print(df)"
      ],
      "execution_count": 9,
      "outputs": [
        {
          "output_type": "stream",
          "text": [
            "      credit.policy             purpose  ...  pub.rec  not.fully.paid\n",
            "8014              0  debt_consolidation  ...        0               1\n",
            "804               1  debt_consolidation  ...        0               1\n",
            "7704              1         educational  ...        0               1\n",
            "4952              1      small_business  ...        0               1\n",
            "2526              1           all_other  ...        0               1\n",
            "...             ...                 ...  ...      ...             ...\n",
            "4539              1    home_improvement  ...        0               0\n",
            "3318              1      major_purchase  ...        0               0\n",
            "7445              1  debt_consolidation  ...        0               0\n",
            "531               1  debt_consolidation  ...        0               0\n",
            "6619              1  debt_consolidation  ...        0               0\n",
            "\n",
            "[3066 rows x 14 columns]\n"
          ],
          "name": "stdout"
        }
      ]
    },
    {
      "cell_type": "code",
      "metadata": {
        "id": "kbjWeHJW_UIs"
      },
      "source": [
        "df = df.sample(frac=1)"
      ],
      "execution_count": 10,
      "outputs": []
    },
    {
      "cell_type": "code",
      "metadata": {
        "colab": {
          "base_uri": "https://localhost:8080/"
        },
        "id": "JweLk9X_96K6",
        "outputId": "3d433190-17a0-4868-b860-45fdcd572ca3"
      },
      "source": [
        "print(df)"
      ],
      "execution_count": 11,
      "outputs": [
        {
          "output_type": "stream",
          "text": [
            "      credit.policy             purpose  ...  pub.rec  not.fully.paid\n",
            "5352              1  debt_consolidation  ...        0               1\n",
            "5593              1  debt_consolidation  ...        0               0\n",
            "4978              1  debt_consolidation  ...        0               1\n",
            "2205              1      small_business  ...        0               1\n",
            "4836              1           all_other  ...        0               1\n",
            "...             ...                 ...  ...      ...             ...\n",
            "8562              0           all_other  ...        0               1\n",
            "992               1  debt_consolidation  ...        0               0\n",
            "7420              1  debt_consolidation  ...        0               0\n",
            "7731              0           all_other  ...        0               0\n",
            "9080              0         educational  ...        0               1\n",
            "\n",
            "[3066 rows x 14 columns]\n"
          ],
          "name": "stdout"
        }
      ]
    },
    {
      "cell_type": "code",
      "metadata": {
        "id": "k4x1VU0G8knW"
      },
      "source": [
        ""
      ],
      "execution_count": 11,
      "outputs": []
    },
    {
      "cell_type": "code",
      "metadata": {
        "id": "NPFDguzH8k_h"
      },
      "source": [
        ""
      ],
      "execution_count": 11,
      "outputs": []
    },
    {
      "cell_type": "code",
      "metadata": {
        "id": "j65ADGp06t6A"
      },
      "source": [
        "# dataset['split'] = np.random.randn(dataset.shape[0], 1)\n",
        "\n",
        "msk = np.random.rand(len(df)) <= 0.7\n",
        "\n",
        "train = df[msk]\n",
        "test = df[~msk]"
      ],
      "execution_count": 12,
      "outputs": []
    },
    {
      "cell_type": "code",
      "metadata": {
        "id": "qDXdatBJ8clO"
      },
      "source": [
        "train_label=train.filter([\"not.fully.paid\"], axis=1)\n",
        "test_label=test.filter([\"not.fully.paid\"], axis=1)\n",
        "del train[\"not.fully.paid\"]\n",
        "del test[\"not.fully.paid\"]"
      ],
      "execution_count": 13,
      "outputs": []
    },
    {
      "cell_type": "code",
      "metadata": {
        "colab": {
          "base_uri": "https://localhost:8080/"
        },
        "id": "EN8BAk4uJe6U",
        "outputId": "6f6c4d52-b520-4ea2-c809-bf68b6ecf143"
      },
      "source": [
        "print(test)\n",
        "print(test_label)"
      ],
      "execution_count": 14,
      "outputs": [
        {
          "output_type": "stream",
          "text": [
            "      credit.policy             purpose  ...  delinq.2yrs  pub.rec\n",
            "4978              1  debt_consolidation  ...            0        0\n",
            "4836              1           all_other  ...            0        0\n",
            "5727              1           all_other  ...            0        0\n",
            "7799              0         credit_card  ...            1        0\n",
            "9049              0           all_other  ...            0        0\n",
            "...             ...                 ...  ...          ...      ...\n",
            "8685              0  debt_consolidation  ...            0        0\n",
            "1066              1           all_other  ...            0        0\n",
            "8714              0  debt_consolidation  ...            0        0\n",
            "6786              1  debt_consolidation  ...            0        0\n",
            "9080              0         educational  ...            0        0\n",
            "\n",
            "[880 rows x 13 columns]\n",
            "      not.fully.paid\n",
            "4978               1\n",
            "4836               1\n",
            "5727               1\n",
            "7799               1\n",
            "9049               1\n",
            "...              ...\n",
            "8685               1\n",
            "1066               1\n",
            "8714               0\n",
            "6786               1\n",
            "9080               1\n",
            "\n",
            "[880 rows x 1 columns]\n"
          ],
          "name": "stdout"
        }
      ]
    },
    {
      "cell_type": "code",
      "metadata": {
        "id": "J-GJYDKu6uA4"
      },
      "source": [
        "# train=np.array(train)\n",
        "# print(train.shape)\n",
        "# train_labels=train[0:-1, -1]\n",
        "# print(train)\n",
        "# print(train_labels)"
      ],
      "execution_count": 15,
      "outputs": []
    },
    {
      "cell_type": "code",
      "metadata": {
        "id": "JQBAuyrz72sr"
      },
      "source": [
        "# test=np.array(test)\n",
        "# print(test.shape)\n",
        "# test_labels=test[0:-1, -1]\n",
        "# print(test)\n",
        "# print(test_labels)"
      ],
      "execution_count": 16,
      "outputs": []
    },
    {
      "cell_type": "code",
      "metadata": {
        "id": "2uWDoMJxzQWF"
      },
      "source": [
        ""
      ],
      "execution_count": 16,
      "outputs": []
    },
    {
      "cell_type": "code",
      "metadata": {
        "id": "Xgl1WhPI5tM1"
      },
      "source": [
        "# train=np.delete(train, -1, axis=1)\n",
        "# test=np.delete(test, -1, axis=1)"
      ],
      "execution_count": 17,
      "outputs": []
    },
    {
      "cell_type": "code",
      "metadata": {
        "id": "S-CgbatpzQhk"
      },
      "source": [
        "# print(train)\n",
        "# print(test)"
      ],
      "execution_count": 18,
      "outputs": []
    },
    {
      "cell_type": "code",
      "metadata": {
        "id": "EFYrfVE_v1OG"
      },
      "source": [
        ""
      ],
      "execution_count": 18,
      "outputs": []
    },
    {
      "cell_type": "code",
      "metadata": {
        "colab": {
          "base_uri": "https://localhost:8080/"
        },
        "id": "prQx1T2Ev1Qa",
        "outputId": "cc85170d-34b9-4c26-f738-19ee9e94fe3c"
      },
      "source": [
        "model=Sequential()\n",
        "model.add(Dense(6, input_shape=(19, ), activation=\"relu\", kernel_regularizer='l2'))\n",
        "# model.add(BatchNormalization())\n",
        "\n",
        "model.add(Dense(12, activation=\"relu\"))\n",
        "# model.add(Dropout(0.25))\n",
        "# model.add(BatchNormalization())\n",
        "\n",
        "model.add(Dense(32, activation=\"relu\", kernel_regularizer='l2'))\n",
        "model.add(Dropout(0.25))\n",
        "# model.add(BatchNormalization())\n",
        "\n",
        "model.add(Dense(64, activation=\"relu\",  kernel_regularizer='l2')) #added kernal regularizer aand removed dropout\n",
        "# model.add(Dropout(0.25))\n",
        "# model.add(BatchNormalization())\n",
        "\n",
        "model.add(Dense(128, activation=\"relu\", kernel_regularizer='l2'))\n",
        "# model.add(Dense(128, activation=\"relu\", kernel_regularizer='l2'))\n",
        "# model.add(BatchNormalization())\n",
        "# model.add(Dropout(0.25))\n",
        "# model.add(Dense(256, activation=\"relu\", kernel_regularizer='l2'))\n",
        "model.add(Dense(2, activation=\"sigmoid\"))\n",
        "model.summary()"
      ],
      "execution_count": 19,
      "outputs": [
        {
          "output_type": "stream",
          "text": [
            "Model: \"sequential\"\n",
            "_________________________________________________________________\n",
            "Layer (type)                 Output Shape              Param #   \n",
            "=================================================================\n",
            "dense (Dense)                (None, 6)                 120       \n",
            "_________________________________________________________________\n",
            "dense_1 (Dense)              (None, 12)                84        \n",
            "_________________________________________________________________\n",
            "dense_2 (Dense)              (None, 32)                416       \n",
            "_________________________________________________________________\n",
            "dropout (Dropout)            (None, 32)                0         \n",
            "_________________________________________________________________\n",
            "dense_3 (Dense)              (None, 64)                2112      \n",
            "_________________________________________________________________\n",
            "dense_4 (Dense)              (None, 128)               8320      \n",
            "_________________________________________________________________\n",
            "dense_5 (Dense)              (None, 2)                 258       \n",
            "=================================================================\n",
            "Total params: 11,310\n",
            "Trainable params: 11,310\n",
            "Non-trainable params: 0\n",
            "_________________________________________________________________\n"
          ],
          "name": "stdout"
        }
      ]
    },
    {
      "cell_type": "code",
      "metadata": {
        "id": "YLrnoVghKIQz"
      },
      "source": [
        ""
      ],
      "execution_count": 19,
      "outputs": []
    },
    {
      "cell_type": "code",
      "metadata": {
        "id": "9BMAuZH1DVDb"
      },
      "source": [
        "model.compile(loss=\"sparse_categorical_crossentropy\", optimizer=Adam(learning_rate=0.0001), metrics=[\"accuracy\"])"
      ],
      "execution_count": 20,
      "outputs": []
    },
    {
      "cell_type": "code",
      "metadata": {
        "colab": {
          "base_uri": "https://localhost:8080/"
        },
        "id": "kUxDF0Q0FkEk",
        "outputId": "de7f9735-6780-4eb0-949b-8afc74bdbc5a"
      },
      "source": [
        "train = pd.get_dummies(train, columns=['purpose'])\n",
        "print(train)\n",
        "\n",
        "train_label=np.asarray(train_label).astype(np.float32)"
      ],
      "execution_count": 21,
      "outputs": [
        {
          "output_type": "stream",
          "text": [
            "      credit.policy  int.rate  ...  purpose_major_purchase  purpose_small_business\n",
            "5352              1    0.0859  ...                       0                       0\n",
            "5593              1    0.1218  ...                       0                       0\n",
            "2205              1    0.1347  ...                       0                       1\n",
            "993               1    0.0800  ...                       0                       0\n",
            "8893              0    0.1726  ...                       0                       1\n",
            "...             ...       ...  ...                     ...                     ...\n",
            "9269              0    0.1739  ...                       0                       1\n",
            "8562              0    0.1355  ...                       0                       0\n",
            "992               1    0.1197  ...                       0                       0\n",
            "7420              1    0.1099  ...                       0                       0\n",
            "7731              0    0.1028  ...                       0                       0\n",
            "\n",
            "[2186 rows x 19 columns]\n"
          ],
          "name": "stdout"
        }
      ]
    },
    {
      "cell_type": "code",
      "metadata": {
        "id": "rNmpt4neEsxt"
      },
      "source": [
        "from sklearn import preprocessing\n",
        "x = train.values #returns a numpy array\n",
        "min_max_scaler = preprocessing.MinMaxScaler()\n",
        "x_scaled = min_max_scaler.fit_transform(x)\n",
        "train = pd.DataFrame(x_scaled)"
      ],
      "execution_count": 22,
      "outputs": []
    },
    {
      "cell_type": "code",
      "metadata": {
        "colab": {
          "base_uri": "https://localhost:8080/"
        },
        "id": "3L_AtSCCE3Dt",
        "outputId": "ef266a5a-4b67-4edc-d64e-2231c460179b"
      },
      "source": [
        "print(train)"
      ],
      "execution_count": 23,
      "outputs": [
        {
          "output_type": "stream",
          "text": [
            "       0         1         2         3         4   ...   14   15   16   17   18\n",
            "0     1.0  0.165601  0.366135  0.362566  0.549399  ...  1.0  0.0  0.0  0.0  0.0\n",
            "1     1.0  0.395141  0.349900  0.525791  0.363151  ...  1.0  0.0  0.0  0.0  0.0\n",
            "2     1.0  0.477621  0.260428  0.396496  0.423231  ...  0.0  0.0  0.0  0.0  1.0\n",
            "3     1.0  0.127877  0.060386  0.532915  0.418892  ...  0.0  0.0  0.0  0.0  0.0\n",
            "4     0.0  0.719949  0.258895  0.426072  0.409212  ...  0.0  0.0  0.0  0.0  1.0\n",
            "...   ...       ...       ...       ...       ...  ...  ...  ...  ...  ...  ...\n",
            "2181  0.0  0.728261  0.378003  0.702369  0.360481  ...  0.0  0.0  0.0  0.0  1.0\n",
            "2182  0.0  0.482737  0.207354  0.451982  0.865487  ...  0.0  0.0  0.0  0.0  0.0\n",
            "2183  1.0  0.381714  0.060431  0.532915  0.498999  ...  1.0  0.0  0.0  0.0  0.0\n",
            "2184  1.0  0.319054  0.108993  0.518313  0.021028  ...  1.0  0.0  0.0  0.0  0.0\n",
            "2185  0.0  0.273657  0.163964  0.590131  0.333778  ...  0.0  0.0  0.0  0.0  0.0\n",
            "\n",
            "[2186 rows x 19 columns]\n"
          ],
          "name": "stdout"
        }
      ]
    },
    {
      "cell_type": "code",
      "metadata": {
        "id": "aubCRpDoYLZj"
      },
      "source": [
        "train=np.asarray(train).astype(np.float32)"
      ],
      "execution_count": 24,
      "outputs": []
    },
    {
      "cell_type": "code",
      "metadata": {
        "colab": {
          "base_uri": "https://localhost:8080/"
        },
        "id": "XNhatTDxYybd",
        "outputId": "7c332721-d9ed-4742-91e0-6d3dd8692c1b"
      },
      "source": [
        "print(train.shape)\n",
        "print(train_label)"
      ],
      "execution_count": 25,
      "outputs": [
        {
          "output_type": "stream",
          "text": [
            "(2186, 19)\n",
            "[[1.]\n",
            " [0.]\n",
            " [1.]\n",
            " ...\n",
            " [0.]\n",
            " [0.]\n",
            " [0.]]\n"
          ],
          "name": "stdout"
        }
      ]
    },
    {
      "cell_type": "code",
      "metadata": {
        "colab": {
          "base_uri": "https://localhost:8080/",
          "height": 753
        },
        "id": "nkPdr0JJD1uP",
        "outputId": "ae7123ca-0d2e-4790-907a-e59b2398f67b"
      },
      "source": [
        "%%time\n",
        "\n",
        "chkpt = ModelCheckpoint(\"model_weights.h5\", monitor='val_loss',verbose=1, save_best_only=True, mode='min')\n",
        "\n",
        "callbacks = [PlotLossesCallback(), chkpt]\n",
        "\n",
        "model.fit(x=train, y=train_label, validation_split=0.2, batch_size=30, epochs=150, shuffle=False, verbose=2, callbacks=callbacks)"
      ],
      "execution_count": 26,
      "outputs": [
        {
          "output_type": "display_data",
          "data": {
            "image/png": "[encoded data removed]",
            "text/plain": [
              "<Figure size 864x576 with 2 Axes>"
            ]
          },
          "metadata": {
            "tags": [],
            "needs_background": "light"
          }
        },
        {
          "output_type": "stream",
          "text": [
            "accuracy\n",
            "\ttraining         \t (min:    0.496, max:    0.642, cur:    0.627)\n",
            "\tvalidation       \t (min:    0.525, max:    0.676, cur:    0.628)\n",
            "Loss\n",
            "\ttraining         \t (min:    0.659, max:    2.203, cur:    0.662)\n",
            "\tvalidation       \t (min:    0.667, max:    2.139, cur:    0.667)\n",
            "\n",
            "Epoch 00150: val_loss did not improve from 0.66725\n",
            "CPU times: user 1min 52s, sys: 18.1 s, total: 2min 10s\n",
            "Wall time: 1min 48s\n"
          ],
          "name": "stdout"
        }
      ]
    },
    {
      "cell_type": "code",
      "metadata": {
        "id": "BeKYmvBtEd0v",
        "colab": {
          "base_uri": "https://localhost:8080/"
        },
        "outputId": "66183609-da39-4712-dcd5-3a3f77dc2f50"
      },
      "source": [
        "test = pd.get_dummies(test, columns=['purpose'])\n",
        "print(test)\n",
        "\n",
        "test_label=np.asarray(test_label).astype(np.float32)"
      ],
      "execution_count": 27,
      "outputs": [
        {
          "output_type": "stream",
          "text": [
            "      credit.policy  int.rate  ...  purpose_major_purchase  purpose_small_business\n",
            "4978              1    0.1253  ...                       0                       0\n",
            "4836              1    0.1287  ...                       0                       0\n",
            "5727              1    0.1670  ...                       0                       0\n",
            "7799              0    0.1691  ...                       0                       0\n",
            "9049              0    0.2011  ...                       0                       0\n",
            "...             ...       ...  ...                     ...                     ...\n",
            "8685              0    0.0976  ...                       0                       0\n",
            "1066              1    0.1229  ...                       0                       0\n",
            "8714              0    0.1418  ...                       0                       0\n",
            "6786              1    0.0859  ...                       0                       0\n",
            "9080              0    0.1316  ...                       0                       0\n",
            "\n",
            "[880 rows x 19 columns]\n"
          ],
          "name": "stdout"
        }
      ]
    },
    {
      "cell_type": "code",
      "metadata": {
        "id": "-oiwolQHFvpY"
      },
      "source": [
        "x = test.values #returns a numpy array\n",
        "min_max_scaler = preprocessing.MinMaxScaler()\n",
        "x_scaled = min_max_scaler.fit_transform(x)\n",
        "test = pd.DataFrame(x_scaled)"
      ],
      "execution_count": 28,
      "outputs": []
    },
    {
      "cell_type": "code",
      "metadata": {
        "id": "ci-oMXml4Fat"
      },
      "source": [
        "test=np.asarray(test).astype(np.float32)"
      ],
      "execution_count": 29,
      "outputs": []
    },
    {
      "cell_type": "code",
      "metadata": {
        "id": "GejEMSyo4IXz"
      },
      "source": [
        "prediction=model.predict(x=test)"
      ],
      "execution_count": 30,
      "outputs": []
    },
    {
      "cell_type": "code",
      "metadata": {
        "colab": {
          "base_uri": "https://localhost:8080/"
        },
        "id": "4xJsrmi54IaL",
        "outputId": "40d29157-c3ca-43e5-de5e-6d376c6b3ae5"
      },
      "source": [
        "print(prediction)"
      ],
      "execution_count": 31,
      "outputs": [
        {
          "output_type": "stream",
          "text": [
            "[[0.5588042  0.43526763]\n",
            " [0.48794526 0.50991094]\n",
            " [0.39718395 0.60557306]\n",
            " ...\n",
            " [0.41935465 0.5822325 ]\n",
            " [0.63141245 0.359207  ]\n",
            " [0.4004373  0.60214937]]\n"
          ],
          "name": "stdout"
        }
      ]
    },
    {
      "cell_type": "code",
      "metadata": {
        "colab": {
          "base_uri": "https://localhost:8080/"
        },
        "id": "c3he-kfw4XUY",
        "outputId": "cc50563e-e447-4e95-e4c5-a0c44409e1ad"
      },
      "source": [
        "rounded_pred=np.round(prediction)\n",
        "print(rounded_pred)"
      ],
      "execution_count": 32,
      "outputs": [
        {
          "output_type": "stream",
          "text": [
            "[[1. 0.]\n",
            " [0. 1.]\n",
            " [0. 1.]\n",
            " ...\n",
            " [0. 1.]\n",
            " [1. 0.]\n",
            " [0. 1.]]\n"
          ],
          "name": "stdout"
        }
      ]
    },
    {
      "cell_type": "code",
      "metadata": {
        "id": "Cy8UxRHr4XXH"
      },
      "source": [
        "%matplotlib inline\n",
        "from sklearn.metrics import confusion_matrix\n",
        "import itertools\n",
        "import matplotlib.pyplot as plt"
      ],
      "execution_count": 33,
      "outputs": []
    },
    {
      "cell_type": "code",
      "metadata": {
        "id": "y2qbDRIa4XZ3"
      },
      "source": [
        "cm=confusion_matrix(y_true=test_label, y_pred=np.argmax(rounded_pred, axis=-1))"
      ],
      "execution_count": 34,
      "outputs": []
    },
    {
      "cell_type": "code",
      "metadata": {
        "colab": {
          "base_uri": "https://localhost:8080/",
          "height": 279
        },
        "id": "qr7Tp6CG4Xb3",
        "outputId": "668a37ef-56ff-4317-ffda-14c6e06440aa"
      },
      "source": [
        "from sklearn.metrics import ConfusionMatrixDisplay\n",
        "disp = ConfusionMatrixDisplay(confusion_matrix=cm, display_labels=[\"0\", \"1\"])\n",
        "disp = disp.plot(values_format=\"\")\n",
        "plt.show()"
      ],
      "execution_count": 35,
      "outputs": [
        {
          "output_type": "display_data",
          "data": {
            "image/png": "[encoded data removed]",
            "text/plain": [
              "<Figure size 432x288 with 2 Axes>"
            ]
          },
          "metadata": {
            "tags": [],
            "needs_background": "light"
          }
        }
      ]
    },
    {
      "cell_type": "code",
      "metadata": {
        "colab": {
          "base_uri": "https://localhost:8080/"
        },
        "id": "hB9Znj3_5B8R",
        "outputId": "65dce56f-1203-4547-f963-6fb5ca026ca2"
      },
      "source": [
        "print(test.shape)"
      ],
      "execution_count": 36,
      "outputs": [
        {
          "output_type": "stream",
          "text": [
            "(880, 19)\n"
          ],
          "name": "stdout"
        }
      ]
    },
    {
      "cell_type": "code",
      "metadata": {
        "colab": {
          "base_uri": "https://localhost:8080/"
        },
        "id": "lPzdc5PC5rsZ",
        "outputId": "f1a3d3d9-9fb7-4643-aa3e-ede4e2cb2dd8"
      },
      "source": [
        "print(test_label.shape)"
      ],
      "execution_count": 37,
      "outputs": [
        {
          "output_type": "stream",
          "text": [
            "(880, 1)\n"
          ],
          "name": "stdout"
        }
      ]
    },
    {
      "cell_type": "code",
      "metadata": {
        "id": "QeU5Iwyk5vUZ"
      },
      "source": [
        ""
      ],
      "execution_count": 37,
      "outputs": []
    }
  ]
}