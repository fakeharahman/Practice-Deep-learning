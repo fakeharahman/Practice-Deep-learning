{
 "cells": [
  {
   "cell_type": "code",
   "execution_count": 7,
   "metadata": {},
   "outputs": [],
   "source": [
    "import tensorflow as tf\n",
    "import glob\n",
    "import os\n",
    "import keras\n",
    "import numpy as np \n",
    "import pandas as pd \n",
    "import cv2\n",
    "import matplotlib.pyplot as plt\n",
    "# import shuffle\n",
    "from keras.layers import Dense, Flatten, Dropout, BatchNormalization\n",
    "from keras.models import Sequential, Model\n",
    "from keras.preprocessing.image import ImageDataGenerator, load_img\n",
    "from tensorflow.keras.callbacks import ModelCheckpoint, EarlyStopping\n",
    "from livelossplot.tf_keras import PlotLossesCallback\n",
    "from random import shuffle\n",
    "from keras.optimizers import Adam, SGD\n",
    "from tensorflow.keras import regularizers\n",
    "import csv\n",
    "from keras.layers.normalization import BatchNormalization\n",
    "%matplotlib inline"
   ]
  },
  {
   "cell_type": "code",
   "execution_count": 9,
   "metadata": {},
   "outputs": [
    {
     "name": "stdout",
     "output_type": "stream",
     "text": [
      "                                                     TITLE  \\\n",
      "0               Pete The Cat Bedtime Blues Doll, 14.5 Inch   \n",
      "1        The New Yorker NYHM014 Refrigerator Magnet, 2 ...   \n",
      "2        The Ultimate Self-Sufficiency Handbook: A Comp...   \n",
      "3         Amway Nutrilite Kids Chewable Iron Tablets (100)   \n",
      "4        Teacher Planner Company A4 6 Lesson Academic T...   \n",
      "...                                                    ...   \n",
      "2903019  Premium Aviator Sunglasses - HD Polarized (Bri...   \n",
      "2903020  Social Distance Stickers - Set of 5 Sticker Sl...   \n",
      "2903021  Torr-to Face Shield PACK OF 5 with Adjustable ...   \n",
      "2903022  Type-C to 3.5 MM for Oppo R17 Pro Type-C to 3....   \n",
      "2903023                        KNG Orange Polo Tshirt (38)   \n",
      "\n",
      "                                               DESCRIPTION  \\\n",
      "0        Pete the Cat is the coolest, most popular cat ...   \n",
      "1        The New Yorker Handsome Cello Wrapped Hard Mag...   \n",
      "2                                                      NaN   \n",
      "3                                                      NaN   \n",
      "4                                                      NaN   \n",
      "...                                                    ...   \n",
      "2903019  These premium Aviator Sunglasses with 5 color ...   \n",
      "2903020  set of 5 prints social distancing sticker self...   \n",
      "2903021  * COMPLETE FACE PROTECTION: Torr-to Face Shiel...   \n",
      "2903022  Still want to use your favorite earphones/head...   \n",
      "2903023  Performance inspired by comfort. The polo shir...   \n",
      "\n",
      "                                             BULLET_POINTS           BRAND  \\\n",
      "0        [Pete the Cat Bedtime Blues plush doll,Based o...     MerryMakers   \n",
      "1        [Cat In A Tea Cup by New Yorker cover artist G...  The New Yorker   \n",
      "2                                      Skyhorse Publishing          imusti   \n",
      "3        [Nutrilite Kids,Chewable Iron Tablets,Quantity...           Amway   \n",
      "4                                                      NaN             NaN   \n",
      "...                                                    ...             ...   \n",
      "2903019  [Frame size: Lens height - 56mm, Lens width - ...         Generic   \n",
      "2903020  [covid19 safety sticker - set of 5 to maintain...         Generic   \n",
      "2903021  [350 MICRONS PACK OF 5 PCS,COMPLETE FACE PROTE...         TORR-TO   \n",
      "2903022  [Indian Connectors: Made for Indian sockets, t...        SHOPBELL   \n",
      "2903023                                                NaN             KNG   \n",
      "\n",
      "         BROWSE_NODE_ID  \n",
      "0                     0  \n",
      "1                     1  \n",
      "2                     2  \n",
      "3                     3  \n",
      "4                     4  \n",
      "...                 ...  \n",
      "2903019            1040  \n",
      "2903020           15199  \n",
      "2903021         1044933  \n",
      "2903022           14790  \n",
      "2903023            1213  \n",
      "\n",
      "[2903024 rows x 5 columns]\n"
     ]
    }
   ],
   "source": [
    "df=pd.read_csv(\"C:/Users/Fakeha Rahman/Downloads/dataset52a7b21/dataset/train.csv\", header=0, escapechar = \"\\\\\", quoting = csv.QUOTE_NONE)\n",
    "print(df)"
   ]
  },
  {
   "cell_type": "code",
   "execution_count": 10,
   "metadata": {},
   "outputs": [
    {
     "data": {
      "text/html": [
       "<div>\n",
       "<style scoped>\n",
       "    .dataframe tbody tr th:only-of-type {\n",
       "        vertical-align: middle;\n",
       "    }\n",
       "\n",
       "    .dataframe tbody tr th {\n",
       "        vertical-align: top;\n",
       "    }\n",
       "\n",
       "    .dataframe thead th {\n",
       "        text-align: right;\n",
       "    }\n",
       "</style>\n",
       "<table border=\"1\" class=\"dataframe\">\n",
       "  <thead>\n",
       "    <tr style=\"text-align: right;\">\n",
       "      <th></th>\n",
       "      <th>TITLE</th>\n",
       "      <th>DESCRIPTION</th>\n",
       "      <th>BULLET_POINTS</th>\n",
       "      <th>BRAND</th>\n",
       "      <th>BROWSE_NODE_ID</th>\n",
       "    </tr>\n",
       "  </thead>\n",
       "  <tbody>\n",
       "    <tr>\n",
       "      <th>0</th>\n",
       "      <td>Pete The Cat Bedtime Blues Doll, 14.5 Inch</td>\n",
       "      <td>Pete the Cat is the coolest, most popular cat ...</td>\n",
       "      <td>[Pete the Cat Bedtime Blues plush doll,Based o...</td>\n",
       "      <td>MerryMakers</td>\n",
       "      <td>0</td>\n",
       "    </tr>\n",
       "    <tr>\n",
       "      <th>1</th>\n",
       "      <td>The New Yorker NYHM014 Refrigerator Magnet, 2 ...</td>\n",
       "      <td>The New Yorker Handsome Cello Wrapped Hard Mag...</td>\n",
       "      <td>[Cat In A Tea Cup by New Yorker cover artist G...</td>\n",
       "      <td>The New Yorker</td>\n",
       "      <td>1</td>\n",
       "    </tr>\n",
       "    <tr>\n",
       "      <th>2</th>\n",
       "      <td>The Ultimate Self-Sufficiency Handbook: A Comp...</td>\n",
       "      <td>NaN</td>\n",
       "      <td>Skyhorse Publishing</td>\n",
       "      <td>imusti</td>\n",
       "      <td>2</td>\n",
       "    </tr>\n",
       "    <tr>\n",
       "      <th>3</th>\n",
       "      <td>Amway Nutrilite Kids Chewable Iron Tablets (100)</td>\n",
       "      <td>NaN</td>\n",
       "      <td>[Nutrilite Kids,Chewable Iron Tablets,Quantity...</td>\n",
       "      <td>Amway</td>\n",
       "      <td>3</td>\n",
       "    </tr>\n",
       "    <tr>\n",
       "      <th>4</th>\n",
       "      <td>Teacher Planner Company A4 6 Lesson Academic T...</td>\n",
       "      <td>NaN</td>\n",
       "      <td>NaN</td>\n",
       "      <td>NaN</td>\n",
       "      <td>4</td>\n",
       "    </tr>\n",
       "  </tbody>\n",
       "</table>\n",
       "</div>"
      ],
      "text/plain": [
       "                                               TITLE  \\\n",
       "0         Pete The Cat Bedtime Blues Doll, 14.5 Inch   \n",
       "1  The New Yorker NYHM014 Refrigerator Magnet, 2 ...   \n",
       "2  The Ultimate Self-Sufficiency Handbook: A Comp...   \n",
       "3   Amway Nutrilite Kids Chewable Iron Tablets (100)   \n",
       "4  Teacher Planner Company A4 6 Lesson Academic T...   \n",
       "\n",
       "                                         DESCRIPTION  \\\n",
       "0  Pete the Cat is the coolest, most popular cat ...   \n",
       "1  The New Yorker Handsome Cello Wrapped Hard Mag...   \n",
       "2                                                NaN   \n",
       "3                                                NaN   \n",
       "4                                                NaN   \n",
       "\n",
       "                                       BULLET_POINTS           BRAND  \\\n",
       "0  [Pete the Cat Bedtime Blues plush doll,Based o...     MerryMakers   \n",
       "1  [Cat In A Tea Cup by New Yorker cover artist G...  The New Yorker   \n",
       "2                                Skyhorse Publishing          imusti   \n",
       "3  [Nutrilite Kids,Chewable Iron Tablets,Quantity...           Amway   \n",
       "4                                                NaN             NaN   \n",
       "\n",
       "   BROWSE_NODE_ID  \n",
       "0               0  \n",
       "1               1  \n",
       "2               2  \n",
       "3               3  \n",
       "4               4  "
      ]
     },
     "execution_count": 10,
     "metadata": {},
     "output_type": "execute_result"
    }
   ],
   "source": [
    "df.head()"
   ]
  },
  {
   "cell_type": "code",
   "execution_count": 11,
   "metadata": {},
   "outputs": [
    {
     "data": {
      "text/html": [
       "<div>\n",
       "<style scoped>\n",
       "    .dataframe tbody tr th:only-of-type {\n",
       "        vertical-align: middle;\n",
       "    }\n",
       "\n",
       "    .dataframe tbody tr th {\n",
       "        vertical-align: top;\n",
       "    }\n",
       "\n",
       "    .dataframe thead th {\n",
       "        text-align: right;\n",
       "    }\n",
       "</style>\n",
       "<table border=\"1\" class=\"dataframe\">\n",
       "  <thead>\n",
       "    <tr style=\"text-align: right;\">\n",
       "      <th></th>\n",
       "      <th>TITLE</th>\n",
       "      <th>DESCRIPTION</th>\n",
       "      <th>BULLET_POINTS</th>\n",
       "      <th>BRAND</th>\n",
       "      <th>BROWSE_NODE_ID</th>\n",
       "    </tr>\n",
       "  </thead>\n",
       "  <tbody>\n",
       "    <tr>\n",
       "      <th>2903019</th>\n",
       "      <td>Premium Aviator Sunglasses - HD Polarized (Bri...</td>\n",
       "      <td>These premium Aviator Sunglasses with 5 color ...</td>\n",
       "      <td>[Frame size: Lens height - 56mm, Lens width - ...</td>\n",
       "      <td>Generic</td>\n",
       "      <td>1040</td>\n",
       "    </tr>\n",
       "    <tr>\n",
       "      <th>2903020</th>\n",
       "      <td>Social Distance Stickers - Set of 5 Sticker Sl...</td>\n",
       "      <td>set of 5 prints social distancing sticker self...</td>\n",
       "      <td>[covid19 safety sticker - set of 5 to maintain...</td>\n",
       "      <td>Generic</td>\n",
       "      <td>15199</td>\n",
       "    </tr>\n",
       "    <tr>\n",
       "      <th>2903021</th>\n",
       "      <td>Torr-to Face Shield PACK OF 5 with Adjustable ...</td>\n",
       "      <td>* COMPLETE FACE PROTECTION: Torr-to Face Shiel...</td>\n",
       "      <td>[350 MICRONS PACK OF 5 PCS,COMPLETE FACE PROTE...</td>\n",
       "      <td>TORR-TO</td>\n",
       "      <td>1044933</td>\n",
       "    </tr>\n",
       "    <tr>\n",
       "      <th>2903022</th>\n",
       "      <td>Type-C to 3.5 MM for Oppo R17 Pro Type-C to 3....</td>\n",
       "      <td>Still want to use your favorite earphones/head...</td>\n",
       "      <td>[Indian Connectors: Made for Indian sockets, t...</td>\n",
       "      <td>SHOPBELL</td>\n",
       "      <td>14790</td>\n",
       "    </tr>\n",
       "    <tr>\n",
       "      <th>2903023</th>\n",
       "      <td>KNG Orange Polo Tshirt (38)</td>\n",
       "      <td>Performance inspired by comfort. The polo shir...</td>\n",
       "      <td>NaN</td>\n",
       "      <td>KNG</td>\n",
       "      <td>1213</td>\n",
       "    </tr>\n",
       "  </tbody>\n",
       "</table>\n",
       "</div>"
      ],
      "text/plain": [
       "                                                     TITLE  \\\n",
       "2903019  Premium Aviator Sunglasses - HD Polarized (Bri...   \n",
       "2903020  Social Distance Stickers - Set of 5 Sticker Sl...   \n",
       "2903021  Torr-to Face Shield PACK OF 5 with Adjustable ...   \n",
       "2903022  Type-C to 3.5 MM for Oppo R17 Pro Type-C to 3....   \n",
       "2903023                        KNG Orange Polo Tshirt (38)   \n",
       "\n",
       "                                               DESCRIPTION  \\\n",
       "2903019  These premium Aviator Sunglasses with 5 color ...   \n",
       "2903020  set of 5 prints social distancing sticker self...   \n",
       "2903021  * COMPLETE FACE PROTECTION: Torr-to Face Shiel...   \n",
       "2903022  Still want to use your favorite earphones/head...   \n",
       "2903023  Performance inspired by comfort. The polo shir...   \n",
       "\n",
       "                                             BULLET_POINTS     BRAND  \\\n",
       "2903019  [Frame size: Lens height - 56mm, Lens width - ...   Generic   \n",
       "2903020  [covid19 safety sticker - set of 5 to maintain...   Generic   \n",
       "2903021  [350 MICRONS PACK OF 5 PCS,COMPLETE FACE PROTE...   TORR-TO   \n",
       "2903022  [Indian Connectors: Made for Indian sockets, t...  SHOPBELL   \n",
       "2903023                                                NaN       KNG   \n",
       "\n",
       "         BROWSE_NODE_ID  \n",
       "2903019            1040  \n",
       "2903020           15199  \n",
       "2903021         1044933  \n",
       "2903022           14790  \n",
       "2903023            1213  "
      ]
     },
     "execution_count": 11,
     "metadata": {},
     "output_type": "execute_result"
    }
   ],
   "source": [
    "df.tail()"
   ]
  },
  {
   "cell_type": "code",
   "execution_count": 19,
   "metadata": {},
   "outputs": [],
   "source": [
    "title=df[\"TITLE\"]"
   ]
  },
  {
   "cell_type": "code",
   "execution_count": 17,
   "metadata": {},
   "outputs": [
    {
     "data": {
      "text/plain": [
       "'The New Yorker Handsome Cello Wrapped Hard Magnet measures 2.5-Inch width by 3.5-Inch height and highlight one of the many beautiful New Yorker covers in full color. Cat In A Tea Cup by New Yorker cover artist Gurbuz Dogan Eksioglu'"
      ]
     },
     "execution_count": 17,
     "metadata": {},
     "output_type": "execute_result"
    }
   ],
   "source": [
    "df[\"DESCRIPTION\"][1]"
   ]
  },
  {
   "cell_type": "code",
   "execution_count": 18,
   "metadata": {},
   "outputs": [
    {
     "data": {
      "text/plain": [
       "'[Cat In A Tea Cup by New Yorker cover artist Gurbuz Dogan Eksioglu,Handsome cello wrapped hard magnet,Ideal for home or office, or for a gift and for any New Yorker magazine lover,It highlight one of the many beautiful New Yorker covers in full color,Rigid magnet measures 2. 5-Inch width by 3. 5-Inch height]'"
      ]
     },
     "execution_count": 18,
     "metadata": {},
     "output_type": "execute_result"
    }
   ],
   "source": [
    "df[\"BULLET_POINTS\"][1]"
   ]
  },
  {
   "cell_type": "code",
   "execution_count": 22,
   "metadata": {},
   "outputs": [],
   "source": [
    "from transformers import TFBertModel,BertTokenizer"
   ]
  },
  {
   "cell_type": "code",
   "execution_count": 26,
   "metadata": {},
   "outputs": [
    {
     "data": {
      "application/vnd.jupyter.widget-view+json": {
       "model_id": "d623710bfe8c44b980d3647eae1377d8",
       "version_major": 2,
       "version_minor": 0
      },
      "text/plain": [
       "HBox(children=(HTML(value='Downloading'), FloatProgress(value=0.0, max=231508.0), HTML(value='')))"
      ]
     },
     "metadata": {},
     "output_type": "display_data"
    },
    {
     "name": "stdout",
     "output_type": "stream",
     "text": [
      "\n"
     ]
    },
    {
     "data": {
      "application/vnd.jupyter.widget-view+json": {
       "model_id": "fe771ed70639463886849cc50b5d0fb0",
       "version_major": 2,
       "version_minor": 0
      },
      "text/plain": [
       "HBox(children=(HTML(value='Downloading'), FloatProgress(value=0.0, max=28.0), HTML(value='')))"
      ]
     },
     "metadata": {},
     "output_type": "display_data"
    },
    {
     "name": "stdout",
     "output_type": "stream",
     "text": [
      "\n"
     ]
    },
    {
     "data": {
      "application/vnd.jupyter.widget-view+json": {
       "model_id": "dfc3429739864c4da9977a3004783881",
       "version_major": 2,
       "version_minor": 0
      },
      "text/plain": [
       "HBox(children=(HTML(value='Downloading'), FloatProgress(value=0.0, max=466062.0), HTML(value='')))"
      ]
     },
     "metadata": {},
     "output_type": "display_data"
    },
    {
     "name": "stdout",
     "output_type": "stream",
     "text": [
      "\n"
     ]
    },
    {
     "data": {
      "application/vnd.jupyter.widget-view+json": {
       "model_id": "064b9d0831a2407c9cb1012d243f8d18",
       "version_major": 2,
       "version_minor": 0
      },
      "text/plain": [
       "HBox(children=(HTML(value='Downloading'), FloatProgress(value=0.0, max=570.0), HTML(value='')))"
      ]
     },
     "metadata": {},
     "output_type": "display_data"
    },
    {
     "name": "stdout",
     "output_type": "stream",
     "text": [
      "\n"
     ]
    },
    {
     "data": {
      "application/vnd.jupyter.widget-view+json": {
       "model_id": "b2dafbcff0f44503bf42f5407367ed5e",
       "version_major": 2,
       "version_minor": 0
      },
      "text/plain": [
       "HBox(children=(HTML(value='Downloading'), FloatProgress(value=0.0, max=536063208.0), HTML(value='')))"
      ]
     },
     "metadata": {},
     "output_type": "display_data"
    },
    {
     "name": "stdout",
     "output_type": "stream",
     "text": [
      "\n"
     ]
    },
    {
     "name": "stderr",
     "output_type": "stream",
     "text": [
      "Some layers from the model checkpoint at bert-base-uncased were not used when initializing TFBertModel: ['mlm___cls', 'nsp___cls']\n",
      "- This IS expected if you are initializing TFBertModel from the checkpoint of a model trained on another task or with another architecture (e.g. initializing a BertForSequenceClassification model from a BertForPreTraining model).\n",
      "- This IS NOT expected if you are initializing TFBertModel from the checkpoint of a model that you expect to be exactly identical (initializing a BertForSequenceClassification model from a BertForSequenceClassification model).\n",
      "All the layers of TFBertModel were initialized from the model checkpoint at bert-base-uncased.\n",
      "If your task is similar to the task the model of the checkpoint was trained on, you can already use TFBertModel for predictions without further training.\n"
     ]
    }
   ],
   "source": [
    "tokenizer=BertTokenizer.from_pretrained(\"bert-base-uncased\")\n",
    "model=TFBertModel.from_pretrained(\"bert-base-uncased\")"
   ]
  },
  {
   "cell_type": "code",
   "execution_count": 27,
   "metadata": {},
   "outputs": [
    {
     "ename": "SyntaxError",
     "evalue": "unexpected EOF while parsing (<ipython-input-27-b988a46d7051>, line 1)",
     "output_type": "error",
     "traceback": [
      "\u001b[1;36m  File \u001b[1;32m\"<ipython-input-27-b988a46d7051>\"\u001b[1;36m, line \u001b[1;32m1\u001b[0m\n\u001b[1;33m    def tokenize(sentence, tokenize):\u001b[0m\n\u001b[1;37m                                     ^\u001b[0m\n\u001b[1;31mSyntaxError\u001b[0m\u001b[1;31m:\u001b[0m unexpected EOF while parsing\n"
     ]
    }
   ],
   "source": [
    "def tokenize(sentence, tokenizer):\n",
    "    input_id=[]\n",
    "    mask_id=[]\n",
    "    for sent in sentence:\n",
    "        tokenizer.encode_plus(sent, )\n",
    "    "
   ]
  },
  {
   "cell_type": "code",
   "execution_count": 46,
   "metadata": {},
   "outputs": [
    {
     "data": {
      "text/plain": [
       "1278942"
      ]
     },
     "execution_count": 46,
     "metadata": {},
     "output_type": "execute_result"
    }
   ],
   "source": [
    "df[\"DESCRIPTION\"].nunique()"
   ]
  },
  {
   "cell_type": "code",
   "execution_count": 49,
   "metadata": {},
   "outputs": [
    {
     "data": {
      "text/plain": [
       "1668898"
      ]
     },
     "execution_count": 49,
     "metadata": {},
     "output_type": "execute_result"
    }
   ],
   "source": [
    "df[\"BULLET_POINTS\"].nunique()"
   ]
  },
  {
   "cell_type": "code",
   "execution_count": 32,
   "metadata": {},
   "outputs": [
    {
     "data": {
      "text/plain": [
       "2751513"
      ]
     },
     "execution_count": 32,
     "metadata": {},
     "output_type": "execute_result"
    }
   ],
   "source": [
    "len(title.unique())"
   ]
  },
  {
   "cell_type": "code",
   "execution_count": 43,
   "metadata": {},
   "outputs": [
    {
     "data": {
      "text/plain": [
       "723664"
      ]
     },
     "execution_count": 43,
     "metadata": {},
     "output_type": "execute_result"
    }
   ],
   "source": [
    "df[\"DESCRIPTION\"].isna().sum()"
   ]
  },
  {
   "cell_type": "code",
   "execution_count": 44,
   "metadata": {},
   "outputs": [
    {
     "data": {
      "text/plain": [
       "2002607"
      ]
     },
     "execution_count": 44,
     "metadata": {},
     "output_type": "execute_result"
    }
   ],
   "source": [
    "1278943+723664"
   ]
  },
  {
   "cell_type": "code",
   "execution_count": 48,
   "metadata": {},
   "outputs": [
    {
     "data": {
      "text/plain": [
       "0          False\n",
       "1           True\n",
       "2          False\n",
       "3          False\n",
       "4          False\n",
       "           ...  \n",
       "2903019    False\n",
       "2903020    False\n",
       "2903021    False\n",
       "2903022    False\n",
       "2903023    False\n",
       "Name: DESCRIPTION, Length: 2903024, dtype: bool"
      ]
     },
     "execution_count": 48,
     "metadata": {},
     "output_type": "execute_result"
    }
   ],
   "source": [
    "(df[\"DESCRIPTION\"]=='The New Yorker Handsome Cello Wrapped Hard Magnet measures 2.5-Inch width by 3.5-Inch height and highlight one of the many beautiful New Yorker covers in full color. Cat In A Tea Cup by New Yorker cover artist Gurbuz Dogan Eksioglu')==True"
   ]
  },
  {
   "cell_type": "code",
   "execution_count": null,
   "metadata": {},
   "outputs": [],
   "source": []
  }
 ],
 "metadata": {
  "kernelspec": {
   "display_name": "Python 3",
   "language": "python",
   "name": "python3"
  },
  "language_info": {
   "codemirror_mode": {
    "name": "ipython",
    "version": 3
   },
   "file_extension": ".py",
   "mimetype": "text/x-python",
   "name": "python",
   "nbconvert_exporter": "python",
   "pygments_lexer": "ipython3",
   "version": "3.8.5"
  }
 },
 "nbformat": 4,
 "nbformat_minor": 4
}
