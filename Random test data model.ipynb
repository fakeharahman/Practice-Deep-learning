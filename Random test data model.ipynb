{
 "cells": [
  {
   "cell_type": "code",
   "execution_count": 1,
   "metadata": {},
   "outputs": [],
   "source": [
    "import numpy as np\n",
    "import tensorflow as tf\n",
    "from random import randint\n",
    "from sklearn.preprocessing import MinMaxScaler\n",
    "from sklearn.utils import shuffle"
   ]
  },
  {
   "cell_type": "code",
   "execution_count": 2,
   "metadata": {},
   "outputs": [],
   "source": [
    "train_X=[]\n",
    "train_Y=[]"
   ]
  },
  {
   "cell_type": "code",
   "execution_count": 3,
   "metadata": {},
   "outputs": [
    {
     "name": "stdout",
     "output_type": "stream",
     "text": [
      "[14, 78, 93, 25, 71, 78, 18, 95, 57, 61, 38, 21, 81, 98, 51, 82, 15, 76, 27, 34, 24, 15, 37, 24, 34, 60, 69, 48, 18, 25, 77, 95, 53, 20, 89, 45, 33, 92, 21, 41, 71, 66, 97, 54, 47, 96, 13, 61, 14, 75, 87, 81, 29, 96, 46, 21, 58, 22, 21, 25, 81, 76, 100, 93, 53, 73, 53, 88, 66, 81, 87, 48, 33, 71, 21, 81, 97, 47, 25, 69, 62, 80, 52, 92, 44, 98, 62, 23, 32, 75, 51, 19, 84, 20, 58, 81, 44, 92, 90, 60, 51, 49, 72, 58, 81, 37, 13, 44, 79, 45, 93, 33, 90, 14, 87, 47, 23, 78, 73, 68, 28, 87, 28, 13, 95, 38, 54, 82, 44, 74, 15, 70, 85, 75, 52, 64, 61, 97, 58, 91, 99, 74, 93, 14, 15, 46, 48, 31, 68, 27, 60, 85, 94, 34, 58, 88, 77, 29, 77, 85, 80, 62, 89, 80, 96, 91, 51, 36, 41, 70, 22, 72, 41, 79, 98, 94, 69, 88, 92, 80, 69, 85, 20, 66, 23, 48, 73, 89, 74, 49, 48, 20, 21, 67, 88, 79, 28, 75, 66, 20, 94, 17, 69, 93, 91, 40, 75, 44, 90, 29, 46, 37, 56, 15, 76, 79, 46, 38, 89, 93, 93, 75, 58, 100, 44, 74, 62, 96, 90, 72, 71, 32, 70, 63, 37, 43, 97, 86, 75, 93, 92, 79, 28, 32, 58, 67, 40, 83, 82, 98, 74, 50, 56, 70, 100, 62, 13, 89, 72, 87, 30, 89, 46, 73, 87, 76, 97, 54, 26, 86, 95, 14, 67, 43, 87, 48, 96, 99, 45, 100, 97, 49, 55, 81, 87, 80, 50, 91, 87, 62, 94, 38, 29, 60, 56, 83, 48, 82, 82, 96, 28, 76, 37, 91, 81, 83, 77, 46, 78, 27, 50, 94, 35, 33, 92, 96, 55, 98, 82, 44, 65, 86, 32, 50, 25, 79, 71, 85, 32, 41, 85, 86, 90, 26, 41, 84, 82, 100, 80, 64, 19, 80, 99, 64, 99, 72, 93, 48, 28, 23, 92, 76, 69, 82, 39, 86, 21, 52, 92, 91, 87, 91, 38, 50, 44, 50, 75, 36, 69, 34, 67, 75, 30, 84, 88, 84, 52, 69, 91, 76, 29, 28, 84, 71, 100, 50, 82, 91, 19, 78, 16, 93, 43, 39, 47, 22, 14, 100, 79, 57, 51, 67, 71, 37, 75, 41, 72, 50, 65, 74, 71, 14, 63, 88, 26, 45, 60, 83, 94, 74, 82, 78, 48, 95, 88, 51, 98, 36, 98, 46, 86, 81, 73, 65, 48, 54, 26, 67, 99, 98, 89, 44, 75, 84, 21, 15, 75, 28, 50, 85, 55, 37, 41, 57, 71, 36, 36, 72, 96, 90, 13, 77, 17, 67, 34, 66, 94, 26, 26, 41, 38, 90, 28, 74, 81, 70, 22, 53, 57, 48, 70, 52, 94, 46, 33, 17, 69, 14, 77, 92, 49, 66, 40, 94, 58, 85, 35, 38, 16, 57, 80, 81, 30, 71, 22, 26, 95, 16, 37, 15, 76, 89, 60, 56, 73, 64, 87, 72, 42, 40, 99, 28, 23, 27, 19, 79, 74, 65, 32, 15, 65, 99, 28, 77, 43, 19, 88, 47, 13, 87, 86, 54, 58, 47, 40, 33, 67, 88, 58, 54, 35, 29, 16, 13, 69, 19, 34, 62, 18, 53, 34, 80, 83, 18, 26, 54, 17, 94, 98, 72, 14, 34, 81, 67, 86, 53, 40, 54, 24, 83, 51, 92, 17, 58, 40, 70, 90, 96, 49, 23, 21, 60, 73, 64, 56, 97, 93, 90, 80, 24, 92, 60, 100, 14, 80, 42, 34, 76, 48, 89, 49, 57, 98, 92, 27, 13, 96, 66, 66, 59, 79, 98, 57, 57, 85, 38, 47, 57, 92, 28, 50, 46, 55, 68, 51, 89, 41, 45, 85, 85, 90, 63, 74, 72, 50, 93, 85, 14, 14, 95, 56, 68, 21, 14, 34, 60, 34, 73, 74, 27, 89, 23, 50, 24, 92, 46, 88, 75, 84, 18, 92, 93, 15, 94, 35, 46, 86, 99, 100, 95, 92, 56, 85, 40, 68, 57, 29, 61, 63, 62, 81, 56, 63, 90, 67, 72, 86, 42, 87, 75, 30, 46, 51, 73, 33, 83, 96, 76, 97, 15, 76, 75, 87, 86, 18, 85, 36, 51, 34, 99, 20, 74, 43, 86, 73, 34, 82, 17, 74, 55, 69, 44, 96, 76, 95, 76, 82, 53, 60, 72, 21, 81, 48, 77, 55, 26, 89, 63, 80, 50, 43, 88, 71, 33, 88, 77, 73, 68, 34, 70, 19, 27, 50, 36, 79, 21, 40, 83, 42, 90, 60, 81, 34, 99, 95, 71, 86, 24, 32, 26, 93, 75, 66, 62, 68, 97, 91, 85, 39, 45, 16, 83, 96, 34, 27, 71, 93, 98, 42, 23, 70, 70, 54, 44, 40, 77, 69, 60, 44, 24, 99, 26, 88, 89, 97, 71, 44, 58, 14, 33, 18, 78, 54, 26, 52, 99, 97, 37, 66, 45, 82, 65, 66, 62, 52, 87, 71, 53, 69, 71, 90, 88, 100, 27, 46, 44, 42, 66, 74, 27, 94, 81, 19, 49, 39, 63, 89, 66, 93, 73, 70, 45, 68, 50, 67, 83, 65, 79, 96, 68, 29, 46, 65, 76, 67, 100, 63, 46, 24, 85, 83, 94, 28, 13, 31, 95, 66, 46, 87, 97, 15, 50, 43, 18, 100, 24, 49, 25, 65, 65, 97, 46, 16, 91, 78, 17, 68, 88, 53, 86, 49, 62, 86, 17, 39, 79, 20, 76, 39, 16, 24, 93, 34, 18, 50, 18, 25, 60, 83, 94, 20, 81, 82, 41, 57, 95, 23, 80, 17, 98, 17, 79, 15, 17, 45, 30, 68, 100, 94, 74, 99, 88, 88, 17, 58, 89, 33, 15, 58, 92, 66, 88, 69, 77, 31, 22, 76, 78, 77, 70, 65, 26, 76, 60, 21, 87, 28, 19, 17, 41, 94, 86, 28, 16, 28, 88, 92, 47, 66, 72, 44, 18, 35, 21, 99, 60, 52, 97, 31, 73, 64, 45, 31, 53, 94, 70, 32, 19, 79, 63, 64, 38, 83, 67, 98, 96, 90, 34, 79, 89, 47, 88, 75, 94, 83, 59, 98, 93, 41, 38, 61, 99, 15, 94, 36, 27, 19, 89, 15, 88, 94, 43, 82, 78, 91, 64, 37, 40, 59, 38, 50, 55, 24, 62, 46, 66, 53, 97, 26, 97, 84, 84, 58, 81, 71, 15, 40, 87, 82, 75, 62, 33, 21, 32, 18, 43, 35, 18, 21, 88, 72, 57, 20, 21, 30, 96, 54, 18, 98, 76, 98, 79, 73, 41, 30, 95, 25, 58, 90, 85, 51, 36, 54, 97, 59, 34, 78, 21, 42, 52, 48, 66, 22, 14, 20, 84, 42, 51, 21, 32, 73, 92, 99, 67, 59, 83, 99, 67, 69, 31, 56, 77, 96, 56, 15, 40, 72, 71, 78, 28, 64, 84, 93, 70, 17, 30, 69, 66, 47, 97, 43, 78, 40, 42, 86, 22, 97, 16, 81, 76, 69, 92, 67, 99, 99, 32, 93, 14, 69, 13, 71, 45, 89, 20, 70, 59, 79, 19, 39, 58, 36, 79, 78, 98, 47, 97, 36, 95, 67, 16, 26, 61, 28, 90, 44, 15, 18, 71, 14, 91, 100, 80, 89, 55, 70, 58, 38, 99, 30, 50, 23, 34, 49, 14, 60, 77, 15, 74, 21, 68, 69, 67, 75, 34, 73, 26, 51, 62, 52, 61, 96, 93, 19, 97, 42, 59, 79, 32, 66, 45, 79, 58, 58, 82, 93, 20, 82, 92, 77, 55, 72, 65, 17, 42, 59, 31, 17, 27, 50, 74, 79, 71, 18, 92, 36, 95, 66, 38, 42, 20, 66, 72, 49, 69, 27, 93, 19, 72, 97, 54, 62, 87, 69, 69, 76, 31, 85, 28, 30, 96, 83, 72, 93, 85, 86, 19, 84, 51, 91, 83, 18, 32, 56, 19, 27, 85, 90, 75, 85, 54, 84, 67, 95, 53, 19, 76, 98, 37, 21, 27, 34, 26, 87, 81, 93, 46, 28, 94, 62, 76, 75, 25, 77, 82, 36, 51, 25, 87, 65, 74, 81, 98, 97, 16, 70, 27, 13, 81, 52, 97, 99, 15, 88, 85, 71, 87, 82, 58, 83, 38, 95, 75, 68, 94, 94, 71, 34, 67, 70, 25, 97, 22, 73, 75, 96, 91, 69, 97, 79, 27, 38, 15, 98, 49, 73, 96, 78, 53, 25, 28, 92, 68, 37, 76, 71, 48, 68, 82, 26, 33, 80, 63, 34, 50, 27, 19, 88, 19, 67, 23, 88, 63, 94, 49, 42, 63, 81, 75, 25, 94, 97, 83, 56, 24, 52, 55, 22, 13, 70, 88, 38, 52, 77, 92, 86, 24, 31, 79, 97, 74, 97, 62, 67, 94, 30, 40, 77, 62, 94, 13, 67, 42, 71, 27, 46, 43, 54, 54, 76, 26, 95, 22, 96, 55, 87, 69, 77, 90, 62, 50, 49, 73, 92, 34, 67, 45, 40, 87, 45, 64, 79, 38, 99, 85, 13, 75, 89, 17, 43, 31, 28, 57, 54, 43, 65, 54, 72, 91, 93, 93, 51, 36, 96, 38, 36, 64, 95, 83, 44, 32, 16, 24, 94, 46, 72, 79, 69, 97, 98, 47, 80, 64, 79, 39, 66, 91, 90, 76, 41, 99, 18, 23, 87, 40, 53, 91, 85, 93, 57, 67, 92, 81, 44, 19, 84, 68, 34, 75, 41, 61, 25, 87, 62, 38, 49, 83, 95, 16, 78, 33, 74, 65, 23, 71, 97, 56, 17, 83, 82, 42, 34, 78, 86, 32, 21, 49, 89, 86, 25, 77, 45, 59, 64, 45, 80, 74, 33, 60, 74, 53, 81, 70, 40, 97, 29, 90, 30, 39, 79, 74, 66, 30, 23, 40, 38, 96, 16, 89, 17, 37, 72, 58, 73, 75, 61, 17, 75, 16, 94, 60, 74, 16, 94, 67, 90, 42, 54, 68, 32, 45, 66, 59, 20, 39, 94, 66, 75, 36, 99, 75, 64, 81, 53, 91, 97, 86, 72, 85, 19, 47, 43, 38, 94, 89, 56, 42, 60, 23, 93, 87, 38, 54, 27, 78, 81, 98, 99, 67, 68, 68, 72, 22, 51, 44, 75, 72, 81, 59, 42, 90, 67, 17, 77, 18, 66, 23, 36, 60, 32, 52, 30, 95, 88, 81, 90, 72, 23, 93, 65, 40, 86, 82, 18, 29, 92, 39, 90, 95, 15, 86, 95, 84, 16, 67, 98, 98, 85, 73, 19, 22, 64, 67, 67, 35, 32, 74, 87, 61, 94, 100, 89, 20, 83, 72, 19, 83, 75, 36, 98, 87, 17, 56, 85, 84, 43, 97, 89, 88, 36, 86, 14, 63, 67, 51, 25, 100, 59, 96, 56, 54, 17, 35, 19, 77, 24, 66, 91, 75, 67, 70, 15, 78, 67, 15, 84, 94, 59, 51, 68, 28, 51, 36, 100, 13, 49, 74, 29, 32, 13, 80, 100, 76, 93, 81, 99, 45, 81, 61, 59, 86, 68, 18, 93, 20, 72, 92, 54, 88, 93, 50, 85, 65, 59, 65, 87, 89, 91, 28, 83, 48, 93, 52, 50, 48, 22, 36, 80, 32, 22, 50, 29, 65, 100, 75, 23, 86, 45, 77, 74, 98, 77, 78, 76, 93, 20, 84, 17, 89, 38, 78, 80, 96, 45, 60, 81, 48, 92, 47, 71, 88, 31, 52, 48, 91, 26, 77, 58, 94, 61, 77, 42, 98, 30, 15, 98, 70, 49, 35, 96, 35, 32, 97, 35, 37, 43, 42, 59, 96, 74, 99, 32, 34, 93, 45, 66, 88, 61, 38, 13, 92, 74, 97, 99, 97, 82, 87, 41, 30, 42, 91, 33, 35, 75, 92, 79, 16, 84, 45, 37, 46, 76, 26, 94, 54, 84, 78, 88, 39, 99, 78, 66, 73, 65, 36, 78, 58, 99, 16, 85, 73, 53, 62, 86, 55, 47, 25, 93, 78, 19, 56, 61, 39, 75, 83, 64, 81, 66, 75, 56, 41, 13, 99, 74, 87, 88, 49, 82, 46, 42, 93, 46, 61, 17, 48, 48, 85, 83, 31, 74, 68, 84, 54, 55, 72, 24, 80, 60, 19, 73, 89, 83, 62, 15, 87, 53, 85, 18, 50, 69, 75, 27, 22, 27, 79, 68, 34, 62, 73, 13, 41, 46, 26, 40, 65, 89, 23, 96, 100, 100, 17, 24, 19, 61, 84, 44, 14, 32, 72, 66, 89, 91, 25, 47, 35, 96, 96, 45, 35, 82, 55, 91, 21, 38, 66, 24, 26, 59, 96, 65, 89, 48, 41, 35, 35, 100, 41, 86, 67, 52, 25, 82, 65, 40, 68, 49, 17, 79, 49, 54, 70, 88, 73, 47, 48, 34, 66, 58, 67, 61, 66, 79, 18, 43, 60, 18, 14, 79, 23, 17, 70, 63, 24, 85, 16, 53, 49, 39, 57, 18, 55] [0, 1, 1, 0, 1, 1, 0, 1, 0, 0, 0, 0, 1, 1, 0, 1, 0, 1, 0, 0, 0, 0, 0, 0, 0, 0, 1, 0, 0, 0, 1, 1, 0, 0, 0, 0, 0, 1, 0, 0, 1, 1, 1, 0, 0, 1, 0, 0, 0, 1, 1, 1, 0, 0, 0, 0, 0, 0, 0, 0, 1, 1, 1, 1, 0, 1, 0, 1, 1, 1, 1, 0, 0, 1, 0, 1, 1, 0, 0, 1, 0, 1, 0, 1, 0, 1, 0, 0, 0, 1, 0, 0, 1, 0, 0, 1, 0, 1, 1, 0, 0, 0, 1, 1, 1, 0, 0, 0, 1, 0, 1, 0, 1, 1, 1, 0, 0, 1, 1, 1, 0, 0, 0, 0, 1, 0, 0, 1, 0, 0, 0, 1, 1, 1, 0, 0, 0, 1, 0, 1, 1, 1, 1, 0, 0, 0, 0, 0, 1, 0, 0, 1, 1, 0, 0, 1, 1, 0, 1, 0, 0, 0, 1, 1, 1, 1, 0, 0, 0, 1, 0, 1, 0, 1, 1, 0, 1, 1, 1, 1, 1, 1, 0, 1, 0, 1, 1, 1, 1, 0, 0, 0, 0, 1, 0, 1, 0, 1, 1, 0, 1, 0, 1, 1, 1, 0, 1, 0, 1, 0, 0, 0, 0, 0, 1, 1, 0, 0, 1, 1, 0, 1, 0, 1, 0, 1, 1, 1, 1, 1, 1, 0, 1, 0, 0, 0, 1, 1, 1, 1, 1, 1, 0, 0, 0, 1, 0, 1, 1, 1, 1, 0, 0, 0, 1, 0, 0, 1, 1, 1, 0, 1, 0, 1, 1, 0, 1, 0, 0, 0, 1, 0, 1, 0, 1, 0, 1, 1, 0, 1, 1, 0, 0, 1, 1, 1, 1, 1, 1, 0, 1, 0, 0, 0, 0, 1, 0, 1, 1, 0, 0, 1, 0, 1, 1, 1, 1, 0, 1, 0, 0, 1, 0, 0, 1, 1, 0, 1, 1, 0, 1, 1, 0, 0, 0, 1, 1, 1, 0, 0, 1, 1, 1, 0, 0, 1, 1, 1, 1, 0, 0, 1, 1, 0, 1, 1, 1, 0, 0, 0, 1, 1, 1, 1, 0, 1, 1, 0, 1, 1, 1, 1, 0, 0, 1, 0, 1, 0, 1, 0, 1, 1, 0, 1, 1, 1, 0, 1, 1, 1, 0, 1, 1, 1, 1, 0, 1, 1, 0, 1, 0, 1, 0, 0, 0, 0, 0, 1, 1, 0, 0, 1, 1, 0, 1, 0, 1, 0, 1, 1, 1, 0, 0, 1, 0, 0, 0, 1, 1, 1, 1, 1, 0, 1, 1, 0, 1, 0, 1, 0, 1, 1, 1, 1, 0, 0, 0, 1, 1, 1, 1, 0, 1, 1, 0, 0, 1, 0, 0, 1, 0, 0, 0, 0, 1, 0, 0, 1, 1, 1, 0, 1, 0, 1, 0, 0, 1, 0, 0, 0, 0, 1, 0, 1, 1, 1, 0, 1, 0, 0, 1, 0, 1, 0, 0, 0, 1, 0, 1, 0, 0, 1, 0, 1, 0, 1, 0, 1, 0, 0, 1, 1, 1, 1, 0, 0, 1, 0, 0, 0, 1, 1, 0, 0, 1, 0, 1, 1, 0, 0, 1, 0, 0, 0, 0, 1, 1, 1, 0, 0, 1, 1, 0, 1, 0, 0, 1, 0, 0, 1, 1, 0, 0, 0, 0, 0, 1, 1, 0, 0, 0, 0, 0, 0, 1, 0, 0, 1, 0, 0, 0, 1, 1, 0, 1, 0, 0, 1, 1, 1, 0, 0, 0, 1, 1, 0, 0, 0, 0, 1, 0, 1, 0, 0, 0, 1, 1, 1, 0, 0, 0, 0, 1, 1, 0, 1, 1, 1, 1, 0, 1, 0, 1, 0, 1, 0, 0, 1, 0, 1, 0, 0, 1, 1, 0, 0, 1, 1, 1, 0, 1, 1, 0, 0, 1, 0, 0, 0, 1, 0, 0, 0, 0, 1, 0, 1, 0, 0, 1, 1, 1, 0, 1, 1, 0, 1, 1, 0, 0, 1, 0, 1, 0, 0, 0, 0, 0, 1, 1, 0, 1, 0, 0, 0, 1, 0, 1, 1, 1, 0, 1, 1, 0, 1, 0, 1, 1, 1, 1, 1, 1, 0, 1, 0, 1, 0, 0, 0, 0, 0, 1, 0, 0, 1, 1, 1, 1, 0, 1, 1, 0, 0, 0, 1, 0, 1, 1, 1, 1, 0, 1, 1, 1, 1, 0, 1, 0, 0, 0, 1, 0, 1, 0, 1, 1, 0, 1, 0, 1, 0, 1, 0, 1, 1, 1, 1, 1, 0, 0, 1, 0, 1, 0, 1, 0, 0, 1, 0, 1, 0, 0, 1, 1, 0, 1, 1, 1, 1, 0, 1, 0, 0, 0, 0, 1, 0, 0, 1, 0, 1, 0, 1, 0, 1, 1, 1, 1, 0, 0, 0, 1, 1, 1, 0, 1, 1, 1, 1, 0, 0, 0, 1, 1, 1, 0, 1, 1, 1, 0, 0, 1, 1, 0, 0, 0, 1, 1, 0, 1, 1, 1, 0, 1, 1, 1, 1, 0, 0, 0, 0, 0, 1, 0, 0, 0, 1, 1, 0, 1, 0, 1, 1, 1, 0, 0, 1, 1, 0, 0, 1, 1, 1, 1, 0, 0, 0, 0, 1, 1, 0, 1, 1, 0, 0, 0, 0, 1, 1, 1, 1, 1, 1, 1, 0, 1, 1, 1, 1, 1, 0, 0, 0, 1, 1, 1, 1, 0, 0, 0, 1, 1, 1, 0, 0, 0, 1, 1, 0, 1, 1, 0, 0, 0, 0, 1, 0, 0, 0, 1, 1, 0, 0, 0, 1, 1, 0, 1, 1, 1, 1, 0, 0, 1, 0, 0, 1, 0, 1, 0, 0, 0, 1, 0, 0, 0, 0, 0, 0, 1, 1, 0, 1, 1, 0, 0, 1, 0, 1, 0, 1, 0, 1, 0, 0, 0, 0, 1, 0, 1, 1, 1, 1, 1, 0, 0, 1, 0, 0, 0, 1, 1, 1, 1, 1, 0, 0, 1, 1, 0, 1, 1, 0, 1, 0, 0, 1, 1, 0, 0, 0, 1, 0, 0, 0, 0, 1, 1, 0, 1, 1, 0, 0, 0, 0, 1, 0, 0, 1, 0, 1, 0, 0, 0, 0, 1, 1, 1, 0, 1, 0, 0, 0, 1, 1, 1, 1, 1, 0, 1, 1, 0, 1, 1, 1, 1, 1, 1, 1, 0, 0, 0, 1, 0, 1, 0, 0, 0, 1, 0, 1, 1, 0, 1, 1, 1, 0, 0, 0, 0, 0, 1, 0, 0, 0, 0, 0, 0, 1, 0, 1, 1, 1, 0, 1, 1, 0, 0, 1, 1, 1, 0, 0, 0, 0, 0, 0, 1, 0, 0, 1, 1, 0, 0, 0, 0, 1, 0, 0, 1, 1, 1, 1, 1, 0, 0, 1, 0, 0, 1, 1, 0, 0, 0, 1, 0, 0, 1, 0, 0, 0, 0, 1, 0, 0, 0, 1, 0, 0, 0, 0, 1, 1, 1, 1, 0, 1, 1, 1, 1, 0, 0, 1, 1, 0, 0, 0, 1, 1, 1, 0, 0, 1, 1, 1, 0, 0, 1, 1, 0, 1, 0, 1, 0, 0, 1, 0, 1, 0, 1, 1, 1, 1, 1, 1, 1, 0, 1, 0, 1, 0, 1, 0, 1, 0, 1, 0, 1, 0, 0, 0, 0, 1, 1, 1, 0, 1, 0, 1, 1, 1, 0, 0, 0, 0, 0, 0, 0, 0, 0, 1, 1, 1, 1, 0, 1, 0, 0, 1, 0, 0, 1, 0, 0, 0, 0, 0, 0, 1, 0, 1, 1, 1, 1, 0, 1, 0, 0, 0, 0, 0, 1, 1, 0, 1, 0, 0, 1, 0, 1, 0, 1, 0, 0, 1, 1, 0, 1, 1, 1, 0, 1, 1, 0, 0, 0, 0, 0, 0, 0, 1, 1, 1, 0, 1, 0, 1, 1, 0, 0, 0, 1, 1, 0, 1, 0, 0, 0, 0, 1, 0, 0, 1, 1, 1, 1, 0, 1, 0, 0, 1, 1, 1, 1, 1, 1, 0, 1, 0, 0, 1, 0, 0, 0, 0, 0, 1, 1, 1, 1, 0, 1, 1, 1, 0, 0, 1, 1, 0, 0, 0, 0, 0, 1, 1, 1, 0, 0, 1, 1, 1, 1, 0, 1, 1, 0, 0, 0, 1, 1, 1, 1, 1, 1, 0, 1, 0, 1, 1, 0, 1, 1, 0, 1, 1, 1, 1, 1, 0, 1, 0, 1, 1, 1, 0, 1, 1, 0, 1, 1, 0, 1, 0, 1, 1, 1, 1, 1, 1, 1, 0, 0, 0, 1, 0, 1, 1, 0, 0, 0, 0, 1, 1, 0, 1, 1, 0, 1, 1, 0, 0, 1, 0, 0, 0, 0, 0, 1, 0, 1, 0, 1, 0, 1, 0, 1, 0, 1, 1, 0, 1, 1, 1, 0, 0, 0, 1, 0, 0, 1, 1, 0, 0, 1, 1, 1, 0, 0, 1, 1, 1, 1, 0, 1, 1, 0, 0, 1, 0, 1, 0, 1, 0, 1, 0, 0, 0, 0, 0, 1, 0, 0, 0, 1, 0, 1, 1, 1, 1, 0, 0, 0, 1, 1, 0, 1, 0, 0, 1, 0, 0, 1, 0, 1, 1, 0, 1, 0, 0, 0, 0, 0, 0, 0, 0, 1, 0, 1, 1, 1, 1, 0, 0, 1, 0, 0, 0, 1, 1, 0, 0, 0, 0, 1, 0, 1, 1, 1, 1, 1, 0, 0, 0, 1, 0, 1, 1, 1, 1, 0, 1, 0, 0, 1, 0, 0, 1, 1, 1, 0, 1, 1, 1, 0, 1, 1, 1, 0, 1, 0, 0, 0, 1, 0, 0, 0, 1, 1, 0, 1, 0, 1, 1, 0, 1, 1, 0, 0, 1, 1, 0, 0, 1, 1, 1, 0, 0, 1, 1, 0, 1, 0, 0, 0, 0, 1, 1, 0, 0, 1, 0, 1, 1, 0, 1, 0, 1, 0, 0, 1, 1, 1, 0, 0, 0, 0, 1, 0, 1, 0, 0, 1, 0, 0, 1, 0, 0, 1, 0, 1, 0, 0, 0, 1, 1, 1, 0, 0, 1, 0, 0, 1, 0, 0, 0, 1, 1, 1, 0, 1, 1, 0, 1, 0, 1, 1, 1, 1, 1, 0, 0, 0, 0, 1, 1, 0, 0, 0, 0, 1, 1, 0, 0, 0, 1, 1, 1, 1, 1, 1, 1, 1, 0, 0, 0, 1, 1, 1, 0, 0, 1, 1, 0, 1, 0, 1, 0, 0, 0, 0, 0, 0, 1, 1, 1, 1, 1, 0, 1, 1, 0, 1, 1, 0, 0, 1, 0, 0, 1, 0, 1, 1, 0, 0, 1, 1, 1, 1, 1, 0, 0, 0, 1, 1, 0, 0, 1, 1, 0, 1, 1, 1, 0, 1, 1, 1, 1, 1, 0, 1, 1, 0, 0, 1, 1, 0, 1, 1, 0, 0, 1, 0, 0, 1, 0, 0, 1, 0, 1, 0, 1, 0, 0, 1, 1, 0, 1, 0, 1, 1, 1, 0, 0, 1, 0, 1, 1, 1, 0, 1, 1, 0, 0, 1, 0, 0, 1, 0, 0, 0, 1, 0, 1, 1, 1, 1, 0, 1, 0, 0, 1, 0, 0, 1, 0, 1, 1, 0, 1, 1, 0, 1, 1, 0, 1, 1, 1, 1, 0, 1, 0, 1, 0, 0, 0, 0, 0, 1, 0, 0, 0, 0, 1, 1, 1, 0, 1, 0, 1, 1, 1, 1, 1, 1, 1, 1, 0, 0, 1, 0, 1, 1, 1, 0, 0, 1, 0, 1, 0, 1, 1, 0, 0, 0, 1, 0, 1, 0, 1, 0, 1, 0, 1, 0, 0, 1, 1, 0, 0, 1, 0, 1, 1, 0, 1, 0, 0, 0, 0, 1, 0, 0, 0, 1, 1, 1, 1, 0, 1, 0, 1, 1, 1, 1, 0, 1, 1, 0, 0, 0, 1, 0, 1, 1, 1, 1, 0, 1, 0, 0, 0, 1, 0, 1, 0, 1, 1, 1, 0, 1, 1, 1, 1, 1, 0, 1, 0, 1, 0, 1, 0, 0, 0, 1, 0, 0, 0, 1, 1, 0, 0, 0, 0, 1, 1, 0, 1, 1, 1, 0, 1, 0, 1, 1, 1, 1, 0, 1, 0, 0, 1, 0, 0, 0, 0, 0, 1, 1, 0, 1, 1, 1, 0, 0, 1, 0, 1, 0, 0, 1, 1, 1, 0, 0, 0, 0, 1, 0, 0, 1, 1, 0, 0, 0, 1, 1, 0, 0, 1, 0, 0, 0, 1, 0, 1, 1, 1, 1, 1, 1, 0, 0, 0, 0, 1, 0, 0, 0, 1, 1, 1, 1, 0, 0, 0, 1, 1, 0, 0, 1, 0, 1, 0, 0, 1, 0, 0, 0, 1, 1, 0, 0, 0, 0, 0, 1, 0, 1, 1, 0, 0, 1, 1, 1, 1, 0, 0, 1, 1, 0, 1, 1, 1, 0, 0, 0, 1, 0, 1, 0, 1, 1, 0, 0, 0, 1, 0, 1, 0, 0, 1, 0, 0, 1, 0, 0, 0, 0, 0, 0, 0]\n"
     ]
    }
   ],
   "source": [
    "for i in range(50):\n",
    "    train_X.append(randint(13, 64))\n",
    "    train_Y.append(1)\n",
    "    train_X.append(randint(65, 100))\n",
    "    train_Y.append(0)\n",
    "    \n",
    "for i in range(1000):\n",
    "    train_X.append(randint(13, 64))\n",
    "    train_Y.append(0)\n",
    "    train_X.append(randint(65, 100))\n",
    "    train_Y.append(1)\n",
    "    \n",
    "train_X, train_Y=shuffle(train_X, train_Y)\n",
    "\n",
    "    \n",
    "print(train_X, train_Y)"
   ]
  },
  {
   "cell_type": "code",
   "execution_count": 4,
   "metadata": {},
   "outputs": [],
   "source": [
    "train_X=np.array(train_X)\n",
    "train_Y=np.array(train_Y)"
   ]
  },
  {
   "cell_type": "code",
   "execution_count": 5,
   "metadata": {},
   "outputs": [
    {
     "name": "stdout",
     "output_type": "stream",
     "text": [
      "[[0.01149425]\n",
      " [0.74712644]\n",
      " [0.91954023]\n",
      " ...\n",
      " [0.50574713]\n",
      " [0.05747126]\n",
      " [0.48275862]]\n"
     ]
    }
   ],
   "source": [
    "scaler=MinMaxScaler(feature_range=(0,1))\n",
    "scaled_train_X=scaler.fit_transform(train_X.reshape(-1, 1))\n",
    "print(scaled_train_X)\n"
   ]
  },
  {
   "cell_type": "code",
   "execution_count": 6,
   "metadata": {},
   "outputs": [],
   "source": [
    "import tensorflow as tf\n",
    "import keras\n",
    "from keras.models import Sequential\n",
    "from keras.layers import Dense, Activation\n",
    "from keras.optimizers import Adam\n",
    "from keras.metrics import categorical_crossentropy"
   ]
  },
  {
   "cell_type": "code",
   "execution_count": 7,
   "metadata": {},
   "outputs": [
    {
     "name": "stdout",
     "output_type": "stream",
     "text": [
      "Model: \"sequential\"\n",
      "_________________________________________________________________\n",
      "Layer (type)                 Output Shape              Param #   \n",
      "=================================================================\n",
      "dense (Dense)                (None, 16)                32        \n",
      "_________________________________________________________________\n",
      "dense_1 (Dense)              (None, 32)                544       \n",
      "_________________________________________________________________\n",
      "dense_2 (Dense)              (None, 2)                 66        \n",
      "=================================================================\n",
      "Total params: 642\n",
      "Trainable params: 642\n",
      "Non-trainable params: 0\n",
      "_________________________________________________________________\n"
     ]
    }
   ],
   "source": [
    "model=Sequential([\n",
    "    Dense(units=16, input_shape=(1,), activation=\"relu\"),\n",
    "    Dense(units=32, activation=\"relu\"),\n",
    "    Dense(units=2, activation=\"sigmoid\"),\n",
    "])\n",
    "model.summary()"
   ]
  },
  {
   "cell_type": "code",
   "execution_count": 8,
   "metadata": {},
   "outputs": [],
   "source": [
    "model.compile(optimizer=Adam(lr=0.0003), loss=\"sparse_categorical_crossentropy\", metrics=['accuracy'])"
   ]
  },
  {
   "cell_type": "code",
   "execution_count": 9,
   "metadata": {},
   "outputs": [
    {
     "name": "stdout",
     "output_type": "stream",
     "text": [
      "Epoch 1/30\n",
      "56/56 - 1s - loss: 0.6540 - accuracy: 0.5655 - val_loss: 0.6434 - val_accuracy: 0.6000\n",
      "Epoch 2/30\n",
      "56/56 - 0s - loss: 0.6224 - accuracy: 0.6363 - val_loss: 0.6170 - val_accuracy: 0.6452\n",
      "Epoch 3/30\n",
      "56/56 - 0s - loss: 0.5933 - accuracy: 0.6833 - val_loss: 0.5933 - val_accuracy: 0.6905\n",
      "Epoch 4/30\n",
      "56/56 - 0s - loss: 0.5658 - accuracy: 0.7250 - val_loss: 0.5699 - val_accuracy: 0.7167\n",
      "Epoch 5/30\n",
      "56/56 - 0s - loss: 0.5378 - accuracy: 0.7649 - val_loss: 0.5454 - val_accuracy: 0.7429\n",
      "Epoch 6/30\n",
      "56/56 - 0s - loss: 0.5059 - accuracy: 0.7976 - val_loss: 0.5159 - val_accuracy: 0.7738\n",
      "Epoch 7/30\n",
      "56/56 - 0s - loss: 0.4719 - accuracy: 0.8315 - val_loss: 0.4892 - val_accuracy: 0.8119\n",
      "Epoch 8/30\n",
      "56/56 - 0s - loss: 0.4405 - accuracy: 0.8565 - val_loss: 0.4643 - val_accuracy: 0.8357\n",
      "Epoch 9/30\n",
      "56/56 - 0s - loss: 0.4110 - accuracy: 0.8786 - val_loss: 0.4420 - val_accuracy: 0.8429\n",
      "Epoch 10/30\n",
      "56/56 - 0s - loss: 0.3841 - accuracy: 0.8917 - val_loss: 0.4225 - val_accuracy: 0.8619\n",
      "Epoch 11/30\n",
      "56/56 - 0s - loss: 0.3601 - accuracy: 0.9018 - val_loss: 0.4061 - val_accuracy: 0.8643\n",
      "Epoch 12/30\n",
      "56/56 - 0s - loss: 0.3392 - accuracy: 0.9137 - val_loss: 0.3926 - val_accuracy: 0.8714\n",
      "Epoch 13/30\n",
      "56/56 - 0s - loss: 0.3213 - accuracy: 0.9196 - val_loss: 0.3819 - val_accuracy: 0.8810\n",
      "Epoch 14/30\n",
      "56/56 - 0s - loss: 0.3062 - accuracy: 0.9280 - val_loss: 0.3736 - val_accuracy: 0.8905\n",
      "Epoch 15/30\n",
      "56/56 - 0s - loss: 0.2936 - accuracy: 0.9310 - val_loss: 0.3674 - val_accuracy: 0.8905\n",
      "Epoch 16/30\n",
      "56/56 - 0s - loss: 0.2831 - accuracy: 0.9321 - val_loss: 0.3629 - val_accuracy: 0.9095\n",
      "Epoch 17/30\n",
      "56/56 - 0s - loss: 0.2744 - accuracy: 0.9363 - val_loss: 0.3597 - val_accuracy: 0.9095\n",
      "Epoch 18/30\n",
      "56/56 - 0s - loss: 0.2673 - accuracy: 0.9387 - val_loss: 0.3575 - val_accuracy: 0.9095\n",
      "Epoch 19/30\n",
      "56/56 - 0s - loss: 0.2614 - accuracy: 0.9393 - val_loss: 0.3560 - val_accuracy: 0.9167\n",
      "Epoch 20/30\n",
      "56/56 - 0s - loss: 0.2564 - accuracy: 0.9446 - val_loss: 0.3552 - val_accuracy: 0.9167\n",
      "Epoch 21/30\n",
      "56/56 - 0s - loss: 0.2523 - accuracy: 0.9452 - val_loss: 0.3547 - val_accuracy: 0.9167\n",
      "Epoch 22/30\n",
      "56/56 - 0s - loss: 0.2489 - accuracy: 0.9452 - val_loss: 0.3545 - val_accuracy: 0.9167\n",
      "Epoch 23/30\n",
      "56/56 - 0s - loss: 0.2460 - accuracy: 0.9476 - val_loss: 0.3545 - val_accuracy: 0.9167\n",
      "Epoch 24/30\n",
      "56/56 - 0s - loss: 0.2435 - accuracy: 0.9488 - val_loss: 0.3545 - val_accuracy: 0.9167\n",
      "Epoch 25/30\n",
      "56/56 - 0s - loss: 0.2413 - accuracy: 0.9494 - val_loss: 0.3547 - val_accuracy: 0.9167\n",
      "Epoch 26/30\n",
      "56/56 - 0s - loss: 0.2394 - accuracy: 0.9494 - val_loss: 0.3548 - val_accuracy: 0.9167\n",
      "Epoch 27/30\n",
      "56/56 - 0s - loss: 0.2378 - accuracy: 0.9494 - val_loss: 0.3549 - val_accuracy: 0.9167\n",
      "Epoch 28/30\n",
      "56/56 - 0s - loss: 0.2363 - accuracy: 0.9494 - val_loss: 0.3549 - val_accuracy: 0.9214\n",
      "Epoch 29/30\n",
      "56/56 - 0s - loss: 0.2349 - accuracy: 0.9494 - val_loss: 0.3549 - val_accuracy: 0.9214\n",
      "Epoch 30/30\n",
      "56/56 - 0s - loss: 0.2336 - accuracy: 0.9500 - val_loss: 0.3548 - val_accuracy: 0.9214\n"
     ]
    },
    {
     "data": {
      "text/plain": [
       "<tensorflow.python.keras.callbacks.History at 0x1e28b259dc0>"
      ]
     },
     "execution_count": 9,
     "metadata": {},
     "output_type": "execute_result"
    }
   ],
   "source": [
    "model.fit(x=scaled_train_X, y=train_Y, validation_split=0.2, batch_size=30, epochs=30, shuffle=False, verbose=2)"
   ]
  },
  {
   "cell_type": "code",
   "execution_count": 10,
   "metadata": {},
   "outputs": [],
   "source": [
    "test=np.array([ 35, 45, 99, 65, 72, 31, 67, 80,22,64])\n",
    "test_Y=np.array([0, 0, 1,1,1,0,1,1,0,0])\n",
    "test, test_Y=shuffle(test, test_Y)\n",
    "scaler_test=MinMaxScaler(feature_range=(0,1))\n",
    "test=scaler_test.fit_transform(test.reshape(-1, 1))\n",
    "prediction=model.predict(x=test)"
   ]
  },
  {
   "cell_type": "code",
   "execution_count": 11,
   "metadata": {},
   "outputs": [
    {
     "name": "stdout",
     "output_type": "stream",
     "text": [
      "[[0.5073496  0.44434437]\n",
      " [0.20329472 0.7576474 ]\n",
      " [0.80943114 0.16805735]\n",
      " [0.8051399  0.17653435]\n",
      " [0.06468359 0.9178103 ]\n",
      " [0.79879653 0.18583438]\n",
      " [0.53122175 0.42129385]\n",
      " [0.34521407 0.6067947 ]\n",
      " [0.8079101  0.17251992]\n",
      " [0.4596138  0.4910713 ]]\n"
     ]
    }
   ],
   "source": [
    "print(prediction)"
   ]
  },
  {
   "cell_type": "code",
   "execution_count": 12,
   "metadata": {},
   "outputs": [
    {
     "name": "stdout",
     "output_type": "stream",
     "text": [
      "[0 1 0 0 1 0 0 1 0 1]\n"
     ]
    }
   ],
   "source": [
    "rounded_pred=(np.argmax(prediction, axis=1))\n",
    "print(rounded_pred)"
   ]
  },
  {
   "cell_type": "markdown",
   "metadata": {},
   "source": [
    "## Confusion Matrix"
   ]
  },
  {
   "cell_type": "code",
   "execution_count": 13,
   "metadata": {},
   "outputs": [],
   "source": [
    "%matplotlib inline\n",
    "from sklearn.metrics import confusion_matrix\n",
    "import itertools\n",
    "import matplotlib.pyplot as plt"
   ]
  },
  {
   "cell_type": "code",
   "execution_count": 14,
   "metadata": {},
   "outputs": [],
   "source": [
    "cm= confusion_matrix(y_true=test_Y, y_pred=rounded_pred)"
   ]
  },
  {
   "cell_type": "code",
   "execution_count": 15,
   "metadata": {},
   "outputs": [],
   "source": [
    "def plot_confusion_matrix(cm, classes,\n",
    "                        normalize=False,\n",
    "                        title='Confusion matrix',\n",
    "                        cmap=plt.cm.Blues):\n",
    "    \"\"\"\n",
    "    This function prints and plots the confusion matrix.\n",
    "    Normalization can be applied by setting `normalize=True`.\n",
    "    \"\"\"\n",
    "    plt.imshow(cm, interpolation='nearest', cmap=cmap)\n",
    "    plt.title(title)\n",
    "    plt.colorbar()\n",
    "    tick_marks = np.arange(len(classes))\n",
    "    plt.xticks(tick_marks, classes, rotation=45)\n",
    "    plt.yticks(tick_marks, classes)\n",
    "\n",
    "    if normalize:\n",
    "        cm = cm.astype('float') / cm.sum(axis=1)[:, np.newaxis]\n",
    "        print(\"Normalized confusion matrix\")\n",
    "    else:\n",
    "        print('Confusion matrix, without normalization')\n",
    "\n",
    "    print(cm)\n",
    "\n",
    "    thresh = cm.max() / 2.\n",
    "    for i, j in itertools.product(range(cm.shape[0]), range(cm.shape[1])):\n",
    "        plt.text(j, i, cm[i, j],\n",
    "            horizontalalignment=\"center\",\n",
    "            color=\"white\" if cm[i, j] > thresh else \"black\")\n",
    "\n",
    "    plt.tight_layout()\n",
    "    plt.ylabel('True label')\n",
    "    plt.xlabel('Predicted label')"
   ]
  },
  {
   "cell_type": "code",
   "execution_count": 16,
   "metadata": {},
   "outputs": [
    {
     "name": "stdout",
     "output_type": "stream",
     "text": [
      "Confusion matrix, without normalization\n",
      "[[5 0]\n",
      " [1 4]]\n"
     ]
    },
    {
     "data": {
      "image/png": "[encoded data removed]",
      "text/plain": [
       "<Figure size 432x288 with 2 Axes>"
      ]
     },
     "metadata": {
      "needs_background": "light"
     },
     "output_type": "display_data"
    }
   ],
   "source": [
    "classes=[\"No side affets\", \"side effects\"]\n",
    "plot_confusion_matrix(cm=cm, classes=classes, title=\"cm \")"
   ]
  },
  {
   "cell_type": "code",
   "execution_count": null,
   "metadata": {},
   "outputs": [],
   "source": []
  }
 ],
 "metadata": {
  "kernelspec": {
   "display_name": "Python 3",
   "language": "python",
   "name": "python3"
  },
  "language_info": {
   "codemirror_mode": {
    "name": "ipython",
    "version": 3
   },
   "file_extension": ".py",
   "mimetype": "text/x-python",
   "name": "python",
   "nbconvert_exporter": "python",
   "pygments_lexer": "ipython3",
   "version": "3.8.5"
  }
 },
 "nbformat": 4,
 "nbformat_minor": 4
}
